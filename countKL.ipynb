{
 "cells": [
  {
   "cell_type": "code",
   "execution_count": 1,
   "metadata": {},
   "outputs": [],
   "source": [
    "import pandas as pd\n",
    "import os\n",
    "import glob\n",
    "import xlwt\n",
    "from collections import Counter"
   ]
  },
  {
   "cell_type": "code",
   "execution_count": 2,
   "metadata": {},
   "outputs": [],
   "source": [
    "contig_file = glob.glob('/SGRNJ03/randd/RD20073101_SCOPEv2_TCR/20210912_4/*/03.assemble/match/match_contigs.csv')[2]"
   ]
  },
  {
   "cell_type": "code",
   "execution_count": 3,
   "metadata": {},
   "outputs": [
    {
     "data": {
      "text/plain": [
       "'/SGRNJ03/randd/RD20073101_SCOPEv2_TCR/20210912_4/H_0806L2_B10_2NL/03.assemble/match/match_contigs.csv'"
      ]
     },
     "execution_count": 3,
     "metadata": {},
     "output_type": "execute_result"
    }
   ],
   "source": [
    "contig_file"
   ]
  },
  {
   "cell_type": "code",
   "execution_count": 4,
   "metadata": {},
   "outputs": [],
   "source": [
    "data = pd.read_csv(contig_file, sep=',')\n",
    "data = data[(data['productive']==True)&(data['full_length']==True)]"
   ]
  },
  {
   "cell_type": "code",
   "execution_count": 5,
   "metadata": {},
   "outputs": [],
   "source": [
    "cbs_nums = len(set(data.barcode.tolist()))"
   ]
  },
  {
   "cell_type": "code",
   "execution_count": 6,
   "metadata": {},
   "outputs": [
    {
     "data": {
      "text/plain": [
       "400"
      ]
     },
     "execution_count": 6,
     "metadata": {},
     "output_type": "execute_result"
    }
   ],
   "source": [
    "cbs_nums"
   ]
  },
  {
   "cell_type": "code",
   "execution_count": 17,
   "metadata": {},
   "outputs": [
    {
     "name": "stdout",
     "output_type": "stream",
     "text": [
      "Counter({'IGK': 2})\n",
      "Counter({'IGK': 2})\n",
      "Counter({'IGK': 2})\n",
      "Counter({'IGK': 2})\n",
      "Counter({'IGK': 2, 'IGH': 1})\n"
     ]
    }
   ],
   "source": [
    "data = pd.read_csv(contig_file, sep=',')\n",
    "data = data[(data['productive']==True)&(data['full_length']==True)]\n",
    "cbs_nums = len(set(data.barcode.tolist()))\n",
    "three_len = 0\n",
    "three_len_except = 0\n",
    "chain_dict = data.groupby('barcode')['chain'].apply(lambda x:x.tolist()).to_dict()\n",
    "for i in chain_dict.values():\n",
    "    if len(i) >= 3 and 'IGL' in i and 'IGK' in i:\n",
    "        three_len_except += 1\n",
    "    if len(i) >= 3:\n",
    "        three_len +=1\n",
    "b = [Counter(i) for i in chain_dict.values()]\n",
    "kk_len = 0\n",
    "ll_len = 0\n",
    "for i in b:\n",
    "    if i['IGL'] > 1:\n",
    "        kk_len += 1\n",
    "        print(i)\n",
    "    elif i['IGK'] > 1:\n",
    "        ll_len += 1\n",
    "        print(i)\n"
   ]
  },
  {
   "cell_type": "code",
   "execution_count": 15,
   "metadata": {},
   "outputs": [
    {
     "data": {
      "text/plain": [
       "[Counter({'IGH': 1}),\n",
       " Counter({'IGH': 1, 'IGK': 1}),\n",
       " Counter({'IGH': 1, 'IGK': 1}),\n",
       " Counter({'IGH': 1, 'IGK': 1}),\n",
       " Counter({'IGK': 1, 'IGH': 1}),\n",
       " Counter({'IGH': 1, 'IGL': 1}),\n",
       " Counter({'IGK': 1}),\n",
       " Counter({'IGL': 1, 'IGH': 1}),\n",
       " Counter({'IGK': 1, 'IGH': 1}),\n",
       " Counter({'IGH': 1, 'IGL': 1}),\n",
       " Counter({'IGH': 1}),\n",
       " Counter({'IGH': 1}),\n",
       " Counter({'IGK': 1}),\n",
       " Counter({'IGK': 1}),\n",
       " Counter({'IGH': 1}),\n",
       " Counter({'IGH': 1, 'IGL': 1}),\n",
       " Counter({'IGL': 1}),\n",
       " Counter({'IGH': 1}),\n",
       " Counter({'IGL': 1}),\n",
       " Counter({'IGK': 1}),\n",
       " Counter({'IGH': 1}),\n",
       " Counter({'IGK': 1}),\n",
       " Counter({'IGH': 1, 'IGK': 1}),\n",
       " Counter({'IGK': 1, 'IGH': 1}),\n",
       " Counter({'IGH': 1, 'IGK': 1}),\n",
       " Counter({'IGL': 1, 'IGH': 1}),\n",
       " Counter({'IGL': 1}),\n",
       " Counter({'IGH': 1}),\n",
       " Counter({'IGK': 1}),\n",
       " Counter({'IGK': 1}),\n",
       " Counter({'IGK': 1, 'IGH': 1}),\n",
       " Counter({'IGK': 1}),\n",
       " Counter({'IGH': 1}),\n",
       " Counter({'IGH': 1, 'IGK': 1}),\n",
       " Counter({'IGL': 1}),\n",
       " Counter({'IGH': 1}),\n",
       " Counter({'IGH': 1, 'IGK': 1}),\n",
       " Counter({'IGH': 1, 'IGL': 1}),\n",
       " Counter({'IGH': 1, 'IGL': 1}),\n",
       " Counter({'IGK': 1}),\n",
       " Counter({'IGL': 1, 'IGH': 1}),\n",
       " Counter({'IGH': 1}),\n",
       " Counter({'IGH': 1, 'IGK': 1}),\n",
       " Counter({'IGL': 1}),\n",
       " Counter({'IGH': 1, 'IGK': 1}),\n",
       " Counter({'IGH': 1, 'IGK': 1}),\n",
       " Counter({'IGH': 1, 'IGK': 1}),\n",
       " Counter({'IGL': 1, 'IGH': 1}),\n",
       " Counter({'IGH': 1}),\n",
       " Counter({'IGK': 1}),\n",
       " Counter({'IGK': 1, 'IGH': 1}),\n",
       " Counter({'IGL': 1, 'IGH': 1}),\n",
       " Counter({'IGL': 1}),\n",
       " Counter({'IGH': 1, 'IGL': 1}),\n",
       " Counter({'IGH': 1, 'IGK': 1}),\n",
       " Counter({'IGL': 1}),\n",
       " Counter({'IGK': 1}),\n",
       " Counter({'IGH': 1, 'IGK': 1}),\n",
       " Counter({'IGH': 1, 'IGL': 1}),\n",
       " Counter({'IGL': 1}),\n",
       " Counter({'IGL': 1}),\n",
       " Counter({'IGK': 1, 'IGH': 1}),\n",
       " Counter({'IGH': 1, 'IGK': 1}),\n",
       " Counter({'IGL': 1}),\n",
       " Counter({'IGK': 1}),\n",
       " Counter({'IGK': 1, 'IGH': 1}),\n",
       " Counter({'IGK': 1}),\n",
       " Counter({'IGK': 1}),\n",
       " Counter({'IGL': 1, 'IGH': 1}),\n",
       " Counter({'IGH': 1, 'IGK': 1}),\n",
       " Counter({'IGL': 1}),\n",
       " Counter({'IGK': 1}),\n",
       " Counter({'IGK': 1, 'IGH': 1}),\n",
       " Counter({'IGL': 1}),\n",
       " Counter({'IGH': 1, 'IGL': 1}),\n",
       " Counter({'IGH': 1, 'IGK': 1}),\n",
       " Counter({'IGK': 1, 'IGH': 1}),\n",
       " Counter({'IGL': 1}),\n",
       " Counter({'IGK': 1}),\n",
       " Counter({'IGH': 1, 'IGK': 1}),\n",
       " Counter({'IGK': 1}),\n",
       " Counter({'IGL': 1, 'IGH': 1}),\n",
       " Counter({'IGL': 1}),\n",
       " Counter({'IGH': 1}),\n",
       " Counter({'IGK': 1, 'IGH': 1}),\n",
       " Counter({'IGH': 1}),\n",
       " Counter({'IGH': 1, 'IGK': 1}),\n",
       " Counter({'IGK': 1, 'IGH': 1}),\n",
       " Counter({'IGL': 1}),\n",
       " Counter({'IGK': 1, 'IGH': 1}),\n",
       " Counter({'IGH': 1, 'IGK': 1}),\n",
       " Counter({'IGK': 1}),\n",
       " Counter({'IGH': 1, 'IGK': 1}),\n",
       " Counter({'IGL': 1, 'IGH': 1}),\n",
       " Counter({'IGK': 1}),\n",
       " Counter({'IGL': 1}),\n",
       " Counter({'IGH': 1, 'IGK': 1}),\n",
       " Counter({'IGH': 1}),\n",
       " Counter({'IGL': 1}),\n",
       " Counter({'IGH': 1}),\n",
       " Counter({'IGK': 1}),\n",
       " Counter({'IGH': 1, 'IGK': 1}),\n",
       " Counter({'IGL': 1, 'IGH': 1}),\n",
       " Counter({'IGL': 1, 'IGH': 1}),\n",
       " Counter({'IGH': 1}),\n",
       " Counter({'IGH': 1, 'IGL': 1}),\n",
       " Counter({'IGK': 2}),\n",
       " Counter({'IGH': 1, 'IGK': 1}),\n",
       " Counter({'IGK': 1}),\n",
       " Counter({'IGL': 1, 'IGH': 1}),\n",
       " Counter({'IGL': 1}),\n",
       " Counter({'IGL': 1}),\n",
       " Counter({'IGL': 1}),\n",
       " Counter({'IGH': 1, 'IGK': 1}),\n",
       " Counter({'IGK': 1}),\n",
       " Counter({'IGH': 1, 'IGK': 1}),\n",
       " Counter({'IGK': 1}),\n",
       " Counter({'IGK': 1, 'IGH': 1}),\n",
       " Counter({'IGK': 1}),\n",
       " Counter({'IGK': 1}),\n",
       " Counter({'IGK': 2}),\n",
       " Counter({'IGH': 1, 'IGL': 1}),\n",
       " Counter({'IGK': 1}),\n",
       " Counter({'IGK': 1}),\n",
       " Counter({'IGL': 1, 'IGH': 1}),\n",
       " Counter({'IGL': 1}),\n",
       " Counter({'IGK': 1}),\n",
       " Counter({'IGH': 1, 'IGK': 1}),\n",
       " Counter({'IGH': 1, 'IGK': 1}),\n",
       " Counter({'IGH': 1}),\n",
       " Counter({'IGK': 1}),\n",
       " Counter({'IGH': 1, 'IGK': 1}),\n",
       " Counter({'IGK': 1}),\n",
       " Counter({'IGL': 1}),\n",
       " Counter({'IGK': 1, 'IGH': 1}),\n",
       " Counter({'IGK': 1, 'IGH': 1}),\n",
       " Counter({'IGL': 1}),\n",
       " Counter({'IGL': 1, 'IGH': 1}),\n",
       " Counter({'IGK': 1}),\n",
       " Counter({'IGH': 1}),\n",
       " Counter({'IGH': 1}),\n",
       " Counter({'IGH': 1, 'IGL': 1}),\n",
       " Counter({'IGK': 1, 'IGH': 1}),\n",
       " Counter({'IGL': 1, 'IGH': 1}),\n",
       " Counter({'IGH': 1, 'IGK': 1}),\n",
       " Counter({'IGL': 1}),\n",
       " Counter({'IGL': 1, 'IGH': 1}),\n",
       " Counter({'IGK': 1, 'IGH': 1}),\n",
       " Counter({'IGL': 1}),\n",
       " Counter({'IGK': 1}),\n",
       " Counter({'IGH': 1, 'IGK': 1}),\n",
       " Counter({'IGH': 1}),\n",
       " Counter({'IGK': 1, 'IGH': 1}),\n",
       " Counter({'IGH': 1, 'IGL': 1}),\n",
       " Counter({'IGH': 1, 'IGL': 1}),\n",
       " Counter({'IGH': 1, 'IGL': 1}),\n",
       " Counter({'IGL': 1}),\n",
       " Counter({'IGK': 1}),\n",
       " Counter({'IGK': 1}),\n",
       " Counter({'IGH': 1}),\n",
       " Counter({'IGL': 1}),\n",
       " Counter({'IGL': 1}),\n",
       " Counter({'IGL': 1}),\n",
       " Counter({'IGK': 1}),\n",
       " Counter({'IGK': 1}),\n",
       " Counter({'IGH': 1, 'IGK': 1}),\n",
       " Counter({'IGK': 1, 'IGH': 1}),\n",
       " Counter({'IGL': 1}),\n",
       " Counter({'IGK': 1}),\n",
       " Counter({'IGH': 1, 'IGK': 1}),\n",
       " Counter({'IGL': 1}),\n",
       " Counter({'IGH': 1, 'IGK': 1}),\n",
       " Counter({'IGH': 1}),\n",
       " Counter({'IGL': 1}),\n",
       " Counter({'IGH': 1, 'IGK': 1}),\n",
       " Counter({'IGH': 1, 'IGL': 1, 'IGK': 1}),\n",
       " Counter({'IGH': 1, 'IGK': 1}),\n",
       " Counter({'IGK': 1, 'IGH': 1}),\n",
       " Counter({'IGK': 1}),\n",
       " Counter({'IGK': 1}),\n",
       " Counter({'IGH': 1, 'IGK': 1}),\n",
       " Counter({'IGH': 1, 'IGK': 1}),\n",
       " Counter({'IGH': 1, 'IGK': 1}),\n",
       " Counter({'IGH': 1, 'IGK': 1}),\n",
       " Counter({'IGL': 1}),\n",
       " Counter({'IGH': 1, 'IGL': 1}),\n",
       " Counter({'IGK': 1}),\n",
       " Counter({'IGH': 1, 'IGK': 1}),\n",
       " Counter({'IGK': 1}),\n",
       " Counter({'IGL': 1}),\n",
       " Counter({'IGK': 1}),\n",
       " Counter({'IGH': 1, 'IGK': 1}),\n",
       " Counter({'IGK': 1}),\n",
       " Counter({'IGH': 1, 'IGK': 1}),\n",
       " Counter({'IGK': 1}),\n",
       " Counter({'IGK': 1}),\n",
       " Counter({'IGH': 1, 'IGL': 1}),\n",
       " Counter({'IGK': 1, 'IGH': 1}),\n",
       " Counter({'IGK': 1, 'IGH': 1}),\n",
       " Counter({'IGK': 1, 'IGH': 1}),\n",
       " Counter({'IGL': 1}),\n",
       " Counter({'IGL': 1, 'IGH': 1}),\n",
       " Counter({'IGL': 1}),\n",
       " Counter({'IGH': 1, 'IGK': 1}),\n",
       " Counter({'IGH': 1, 'IGK': 1}),\n",
       " Counter({'IGH': 1, 'IGK': 1}),\n",
       " Counter({'IGH': 1, 'IGK': 1}),\n",
       " Counter({'IGL': 1, 'IGH': 1}),\n",
       " Counter({'IGH': 1, 'IGK': 1}),\n",
       " Counter({'IGK': 1, 'IGH': 1}),\n",
       " Counter({'IGL': 1}),\n",
       " Counter({'IGK': 1}),\n",
       " Counter({'IGL': 1, 'IGH': 1}),\n",
       " Counter({'IGK': 1, 'IGH': 1}),\n",
       " Counter({'IGH': 1, 'IGL': 1}),\n",
       " Counter({'IGL': 1}),\n",
       " Counter({'IGL': 1}),\n",
       " Counter({'IGH': 1}),\n",
       " Counter({'IGK': 1, 'IGH': 1}),\n",
       " Counter({'IGL': 1}),\n",
       " Counter({'IGL': 1}),\n",
       " Counter({'IGH': 1, 'IGK': 1}),\n",
       " Counter({'IGL': 1, 'IGH': 1}),\n",
       " Counter({'IGH': 1, 'IGL': 1}),\n",
       " Counter({'IGH': 1, 'IGL': 1}),\n",
       " Counter({'IGH': 1, 'IGK': 1}),\n",
       " Counter({'IGH': 1}),\n",
       " Counter({'IGH': 1}),\n",
       " Counter({'IGK': 1}),\n",
       " Counter({'IGK': 1}),\n",
       " Counter({'IGL': 1}),\n",
       " Counter({'IGK': 1}),\n",
       " Counter({'IGH': 1, 'IGL': 1}),\n",
       " Counter({'IGK': 1, 'IGH': 1}),\n",
       " Counter({'IGK': 1, 'IGH': 1}),\n",
       " Counter({'IGL': 1}),\n",
       " Counter({'IGH': 1}),\n",
       " Counter({'IGH': 1, 'IGK': 1}),\n",
       " Counter({'IGH': 1, 'IGL': 1}),\n",
       " Counter({'IGH': 1, 'IGL': 1}),\n",
       " Counter({'IGH': 1, 'IGK': 1}),\n",
       " Counter({'IGH': 1, 'IGL': 1}),\n",
       " Counter({'IGK': 1}),\n",
       " Counter({'IGK': 1}),\n",
       " Counter({'IGL': 1}),\n",
       " Counter({'IGH': 1, 'IGK': 1}),\n",
       " Counter({'IGL': 1}),\n",
       " Counter({'IGL': 1, 'IGH': 1}),\n",
       " Counter({'IGH': 1}),\n",
       " Counter({'IGL': 1}),\n",
       " Counter({'IGH': 1}),\n",
       " Counter({'IGH': 1, 'IGL': 1}),\n",
       " Counter({'IGL': 1, 'IGH': 1}),\n",
       " Counter({'IGL': 1, 'IGH': 1}),\n",
       " Counter({'IGH': 1, 'IGL': 1}),\n",
       " Counter({'IGH': 1, 'IGK': 1}),\n",
       " Counter({'IGK': 1, 'IGH': 1}),\n",
       " Counter({'IGH': 1, 'IGK': 1}),\n",
       " Counter({'IGL': 1, 'IGH': 1}),\n",
       " Counter({'IGK': 1, 'IGH': 1}),\n",
       " Counter({'IGH': 1, 'IGK': 1}),\n",
       " Counter({'IGH': 1}),\n",
       " Counter({'IGK': 1}),\n",
       " Counter({'IGK': 1, 'IGH': 1}),\n",
       " Counter({'IGK': 1, 'IGH': 1}),\n",
       " Counter({'IGH': 1, 'IGK': 1}),\n",
       " Counter({'IGK': 1, 'IGH': 1}),\n",
       " Counter({'IGK': 1, 'IGH': 1}),\n",
       " Counter({'IGK': 1}),\n",
       " Counter({'IGH': 1, 'IGL': 1}),\n",
       " Counter({'IGK': 1}),\n",
       " Counter({'IGH': 1, 'IGK': 1}),\n",
       " Counter({'IGH': 1}),\n",
       " Counter({'IGK': 1, 'IGH': 1}),\n",
       " Counter({'IGK': 1}),\n",
       " Counter({'IGK': 1, 'IGH': 1}),\n",
       " Counter({'IGK': 1, 'IGH': 1}),\n",
       " Counter({'IGK': 1}),\n",
       " Counter({'IGL': 1}),\n",
       " Counter({'IGK': 1, 'IGH': 1}),\n",
       " Counter({'IGL': 1}),\n",
       " Counter({'IGH': 1, 'IGK': 1}),\n",
       " Counter({'IGL': 1}),\n",
       " Counter({'IGH': 1}),\n",
       " Counter({'IGH': 1}),\n",
       " Counter({'IGK': 1}),\n",
       " Counter({'IGL': 1, 'IGH': 1}),\n",
       " Counter({'IGK': 1, 'IGH': 1}),\n",
       " Counter({'IGK': 1}),\n",
       " Counter({'IGH': 1, 'IGK': 1}),\n",
       " Counter({'IGH': 1, 'IGK': 1}),\n",
       " Counter({'IGK': 1, 'IGH': 1}),\n",
       " Counter({'IGH': 1, 'IGK': 1}),\n",
       " Counter({'IGK': 1}),\n",
       " Counter({'IGL': 1}),\n",
       " Counter({'IGH': 1, 'IGL': 1}),\n",
       " Counter({'IGH': 1, 'IGK': 1}),\n",
       " Counter({'IGH': 1, 'IGL': 1}),\n",
       " Counter({'IGK': 1}),\n",
       " Counter({'IGH': 1, 'IGK': 1}),\n",
       " Counter({'IGL': 1}),\n",
       " Counter({'IGH': 1, 'IGK': 1}),\n",
       " Counter({'IGL': 1}),\n",
       " Counter({'IGK': 1}),\n",
       " Counter({'IGH': 1, 'IGL': 1}),\n",
       " Counter({'IGK': 2}),\n",
       " Counter({'IGH': 1, 'IGL': 1}),\n",
       " Counter({'IGL': 1}),\n",
       " Counter({'IGH': 1, 'IGK': 1}),\n",
       " Counter({'IGH': 1, 'IGK': 1}),\n",
       " Counter({'IGH': 1, 'IGK': 1}),\n",
       " Counter({'IGL': 1, 'IGH': 1}),\n",
       " Counter({'IGL': 1}),\n",
       " Counter({'IGK': 2}),\n",
       " Counter({'IGK': 1}),\n",
       " Counter({'IGK': 1}),\n",
       " Counter({'IGH': 1, 'IGK': 1}),\n",
       " Counter({'IGH': 1, 'IGL': 1}),\n",
       " Counter({'IGL': 1}),\n",
       " Counter({'IGL': 1}),\n",
       " Counter({'IGK': 1}),\n",
       " Counter({'IGK': 1}),\n",
       " Counter({'IGL': 1}),\n",
       " Counter({'IGH': 1, 'IGK': 1}),\n",
       " Counter({'IGK': 1, 'IGH': 1}),\n",
       " Counter({'IGH': 1, 'IGK': 1}),\n",
       " Counter({'IGH': 1, 'IGL': 1}),\n",
       " Counter({'IGH': 1, 'IGK': 1}),\n",
       " Counter({'IGK': 1}),\n",
       " Counter({'IGL': 1, 'IGH': 1}),\n",
       " Counter({'IGH': 1, 'IGK': 1}),\n",
       " Counter({'IGH': 1, 'IGL': 1}),\n",
       " Counter({'IGL': 1, 'IGH': 1}),\n",
       " Counter({'IGL': 1, 'IGH': 1}),\n",
       " Counter({'IGH': 1, 'IGK': 1}),\n",
       " Counter({'IGK': 1}),\n",
       " Counter({'IGH': 1, 'IGK': 1}),\n",
       " Counter({'IGK': 1}),\n",
       " Counter({'IGH': 1, 'IGK': 2}),\n",
       " Counter({'IGL': 1}),\n",
       " Counter({'IGH': 1, 'IGK': 1}),\n",
       " Counter({'IGL': 1, 'IGH': 1}),\n",
       " Counter({'IGH': 1, 'IGK': 1}),\n",
       " Counter({'IGK': 1, 'IGH': 1}),\n",
       " Counter({'IGL': 1}),\n",
       " Counter({'IGL': 1}),\n",
       " Counter({'IGK': 1}),\n",
       " Counter({'IGK': 1}),\n",
       " Counter({'IGL': 1}),\n",
       " Counter({'IGH': 1, 'IGK': 1}),\n",
       " Counter({'IGL': 1}),\n",
       " Counter({'IGH': 1, 'IGK': 1}),\n",
       " Counter({'IGH': 1, 'IGK': 1}),\n",
       " Counter({'IGK': 1, 'IGH': 1}),\n",
       " Counter({'IGK': 1, 'IGH': 1}),\n",
       " Counter({'IGL': 1, 'IGH': 1}),\n",
       " Counter({'IGK': 1}),\n",
       " Counter({'IGK': 1}),\n",
       " Counter({'IGK': 1, 'IGH': 1}),\n",
       " Counter({'IGH': 1, 'IGK': 1}),\n",
       " Counter({'IGK': 1}),\n",
       " Counter({'IGH': 1, 'IGK': 1}),\n",
       " Counter({'IGL': 1}),\n",
       " Counter({'IGH': 1, 'IGK': 1}),\n",
       " Counter({'IGK': 1}),\n",
       " Counter({'IGH': 1, 'IGL': 1}),\n",
       " Counter({'IGK': 1}),\n",
       " Counter({'IGL': 1}),\n",
       " Counter({'IGH': 1, 'IGK': 1}),\n",
       " Counter({'IGL': 1, 'IGH': 1}),\n",
       " Counter({'IGH': 1, 'IGK': 1}),\n",
       " Counter({'IGL': 1, 'IGH': 1}),\n",
       " Counter({'IGK': 1}),\n",
       " Counter({'IGH': 1, 'IGK': 1}),\n",
       " Counter({'IGK': 1, 'IGH': 1}),\n",
       " Counter({'IGK': 1, 'IGH': 1}),\n",
       " Counter({'IGL': 1, 'IGH': 1}),\n",
       " Counter({'IGK': 1, 'IGH': 1}),\n",
       " Counter({'IGH': 1, 'IGK': 1}),\n",
       " Counter({'IGL': 1}),\n",
       " Counter({'IGK': 1}),\n",
       " Counter({'IGL': 1, 'IGH': 1}),\n",
       " Counter({'IGH': 1, 'IGK': 1}),\n",
       " Counter({'IGK': 1}),\n",
       " Counter({'IGK': 1, 'IGH': 1}),\n",
       " Counter({'IGL': 1, 'IGH': 1}),\n",
       " Counter({'IGH': 1}),\n",
       " Counter({'IGL': 1, 'IGH': 1}),\n",
       " Counter({'IGH': 1, 'IGL': 1}),\n",
       " Counter({'IGH': 1, 'IGK': 1}),\n",
       " Counter({'IGL': 1}),\n",
       " Counter({'IGL': 1}),\n",
       " Counter({'IGH': 1, 'IGK': 1}),\n",
       " Counter({'IGH': 1, 'IGK': 1}),\n",
       " Counter({'IGH': 1, 'IGK': 1}),\n",
       " Counter({'IGH': 1, 'IGL': 1}),\n",
       " Counter({'IGK': 1}),\n",
       " Counter({'IGH': 1, 'IGL': 1}),\n",
       " Counter({'IGL': 1}),\n",
       " Counter({'IGL': 1})]"
      ]
     },
     "execution_count": 15,
     "metadata": {},
     "output_type": "execute_result"
    }
   ],
   "source": [
    "b "
   ]
  },
  {
   "cell_type": "code",
   "execution_count": 4,
   "metadata": {},
   "outputs": [],
   "source": [
    "sample_name = []\n",
    "def parse_directory(directory):\n",
    "    files = os.listdir(directory)\n",
    "    for file in files:\n",
    "        match_contig_file = f'{file}/03.assemble/match/match_contigs.csv'\n",
    "        if os.path.exists(match_contig_file):\n",
    "            sample_name.append(file)\n",
    "    return sample_name\n",
    "    "
   ]
  },
  {
   "cell_type": "code",
   "execution_count": 3,
   "metadata": {},
   "outputs": [],
   "source": [
    "l1,l2,l3,l4,l5 =[],[],[],[],[]\n",
    "def count_chain():\n",
    "    for file in contig_file:\n",
    "        data = pd.read_csv(contig_file, sep=',')\n",
    "        data = data[(data['productive']==True)&(data['full_length']==True)]\n",
    "        cbs_nums = len(set(data.barcode.tolist()))\n",
    "        three_len = 0\n",
    "        three_len_except = 0\n",
    "        kk_len = 0\n",
    "        ll_len = 0\n",
    "        chain_dict = data.groupby('barcode')['chain'].apply(lambda x:x.tolist()).to_dict()\n",
    "        for i in chain_dict.values():\n",
    "            if len(i) >= 3:\n",
    "                three_len +=1\n",
    "            if len(i) >= 3 and 'IGL' in i and 'IGK' in i:\n",
    "                three_len_except += 1\n",
    "        b = [Counter(i) for i in chain_dict.values()]\n",
    "        for i in b:\n",
    "            if i['IGL'] > 1:\n",
    "                kk_len += 1\n",
    "            elif i['IGK'] > 1:\n",
    "                ll_len += 1\n",
    "        l1.append(cbs_nums)\n",
    "        l2.append(three_len)\n",
    "        l3.appned(three_len_except)\n",
    "        l4.append(kk_len)\n",
    "        l5.append(ll_len)"
   ]
  },
  {
   "cell_type": "code",
   "execution_count": 15,
   "metadata": {},
   "outputs": [],
   "source": [
    "def write_to_sheet():\n",
    "    report = xlwt.Workbook()\n",
    "    sheet = report.add_sheet('chains count')\n",
    "    row0 = ['sample','All productive barcodes number','Barcodes with more than two chains','Barcodes with more than two chains except KK LL', 'Barcodes with KK chains', 'Barcodes with LL chains']\n",
    "    for i in range(len(row0)):\n",
    "        sheet.write(0,i,row0[i])\n",
    "    for i in range(len(sample_name)):\n",
    "        sheet.write(i+1,0,sample_name(i))\n",
    "        sheet.write(i+1,1,l1[i])\n",
    "        sheet.write(i+1,2,l2[i])\n",
    "        sheet.write(i+1,3,l3[i])\n",
    "        sheet.write(i+1,4,l4[i])\n",
    "        sheet.write(i+1,5,l5[i])\n",
    "    report.save('./chains count.xlsx')\n",
    "    "
   ]
  },
  {
   "cell_type": "code",
   "execution_count": 232,
   "metadata": {},
   "outputs": [
    {
     "data": {
      "text/plain": [
       "2110"
      ]
     },
     "execution_count": 232,
     "metadata": {},
     "output_type": "execute_result"
    }
   ],
   "source": [
    "for i in range(len(row0)):\n",
    "    for j in range(len(l1)):\n",
    "        sheet.write(i+1,j)"
   ]
  },
  {
   "cell_type": "code",
   "execution_count": 217,
   "metadata": {},
   "outputs": [
    {
     "data": {
      "text/plain": [
       "34"
      ]
     },
     "execution_count": 217,
     "metadata": {},
     "output_type": "execute_result"
    }
   ],
   "source": [
    "def main():\n",
    "    directory = \"./\"\n",
    "    contig_file = glob.glob(f'{directory}/*/03.assemble/match/match_contigs.csv')\n",
    "    parse_directory(directory)"
   ]
  },
  {
   "cell_type": "code",
   "execution_count": 218,
   "metadata": {},
   "outputs": [
    {
     "data": {
      "text/plain": [
       "20"
      ]
     },
     "execution_count": 218,
     "metadata": {},
     "output_type": "execute_result"
    }
   ],
   "source": [
    "if __name__ == '__main__':\n",
    "\n",
    "    main()"
   ]
  },
  {
   "cell_type": "code",
   "execution_count": 14,
   "metadata": {},
   "outputs": [
    {
     "data": {
      "text/plain": [
       "['.ipynb_checkpoints', '.ipynb_checkpoints']"
      ]
     },
     "execution_count": 14,
     "metadata": {},
     "output_type": "execute_result"
    }
   ],
   "source": []
  },
  {
   "cell_type": "code",
   "execution_count": 9,
   "metadata": {},
   "outputs": [],
   "source": []
  },
  {
   "cell_type": "code",
   "execution_count": 11,
   "metadata": {},
   "outputs": [
    {
     "data": {
      "text/plain": [
       "['.ipynb_checkpoints']"
      ]
     },
     "execution_count": 11,
     "metadata": {},
     "output_type": "execute_result"
    }
   ],
   "source": []
  },
  {
   "cell_type": "code",
   "execution_count": null,
   "metadata": {},
   "outputs": [],
   "source": []
  },
  {
   "cell_type": "code",
   "execution_count": null,
   "metadata": {},
   "outputs": [],
   "source": []
  },
  {
   "cell_type": "code",
   "execution_count": null,
   "metadata": {},
   "outputs": [],
   "source": []
  },
  {
   "cell_type": "code",
   "execution_count": null,
   "metadata": {},
   "outputs": [],
   "source": []
  },
  {
   "cell_type": "code",
   "execution_count": null,
   "metadata": {},
   "outputs": [],
   "source": []
  },
  {
   "cell_type": "code",
   "execution_count": null,
   "metadata": {},
   "outputs": [],
   "source": []
  },
  {
   "cell_type": "code",
   "execution_count": 160,
   "metadata": {},
   "outputs": [],
   "source": []
  },
  {
   "cell_type": "code",
   "execution_count": 165,
   "metadata": {},
   "outputs": [],
   "source": []
  },
  {
   "cell_type": "code",
   "execution_count": 177,
   "metadata": {},
   "outputs": [],
   "source": []
  },
  {
   "cell_type": "code",
   "execution_count": 182,
   "metadata": {},
   "outputs": [],
   "source": []
  },
  {
   "cell_type": "code",
   "execution_count": null,
   "metadata": {},
   "outputs": [],
   "source": []
  }
 ],
 "metadata": {
  "kernelspec": {
   "display_name": "Python 3",
   "language": "python",
   "name": "python3"
  },
  "language_info": {
   "codemirror_mode": {
    "name": "ipython",
    "version": 3
   },
   "file_extension": ".py",
   "mimetype": "text/x-python",
   "name": "python",
   "nbconvert_exporter": "python",
   "pygments_lexer": "ipython3",
   "version": "3.7.6"
  }
 },
 "nbformat": 4,
 "nbformat_minor": 4
}
