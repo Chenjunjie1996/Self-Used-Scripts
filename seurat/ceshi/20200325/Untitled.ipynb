{
 "cells": [
  {
   "cell_type": "code",
   "execution_count": 1,
   "metadata": {},
   "outputs": [
    {
     "name": "stderr",
     "output_type": "stream",
     "text": [
      "Warning message:\n",
      "“package ‘ggplot2’ was built under R version 4.0.3”\n",
      "Warning message:\n",
      "“package ‘dplyr’ was built under R version 4.0.3”\n",
      "Warning message:\n",
      "“package ‘tibble’ was built under R version 4.0.3”\n"
     ]
    }
   ],
   "source": [
    "suppressMessages({\n",
    "library(ggplot2)\n",
    "library(reshape2)\n",
    "library(argparser)\n",
    "library(Seurat)\n",
    "library(corrplot)\n",
    "library(dplyr)\n",
    "library(grid)\n",
    "library(cowplot)\n",
    "library(dplyr)\n",
    "library(grid)\n",
    "library(tidyverse)\n",
    "})"
   ]
  },
  {
   "cell_type": "code",
   "execution_count": 3,
   "metadata": {},
   "outputs": [
    {
     "name": "stderr",
     "output_type": "stream",
     "text": [
      "Warning message:\n",
      "“package ‘data.table’ was built under R version 4.0.3”\n",
      "\n",
      "Attaching package: ‘data.table’\n",
      "\n",
      "\n",
      "The following object is masked from ‘package:purrr’:\n",
      "\n",
      "    transpose\n",
      "\n",
      "\n",
      "The following objects are masked from ‘package:dplyr’:\n",
      "\n",
      "    between, first, last\n",
      "\n",
      "\n",
      "The following objects are masked from ‘package:reshape2’:\n",
      "\n",
      "    dcast, melt\n",
      "\n",
      "\n"
     ]
    }
   ],
   "source": [
    "library(data.table)"
   ]
  },
  {
   "cell_type": "code",
   "execution_count": 4,
   "metadata": {},
   "outputs": [],
   "source": [
    "RAW1 <-fread('/SGRNJ/SingleronDB/Public/cancer/c493/origin/GSE132465/GSE132465_GEO_processed_CRC_10X_raw_UMI_count_matrix.txt',data.table=FALSE)"
   ]
  },
  {
   "cell_type": "code",
   "execution_count": 7,
   "metadata": {},
   "outputs": [
    {
     "data": {
      "text/html": [
       "<table>\n",
       "<caption>A data.frame: 6 × 63689</caption>\n",
       "<thead>\n",
       "\t<tr><th></th><th scope=col>SMC01-T_AAACCTGCATACGCCG</th><th scope=col>SMC01-T_AAACCTGGTCGCATAT</th><th scope=col>SMC01-T_AAACCTGTCCCTTGCA</th><th scope=col>SMC01-T_AAACGGGAGGGAAACA</th><th scope=col>SMC01-T_AAACGGGGTATAGGTA</th><th scope=col>SMC01-T_AAAGATGAGGCCGAAT</th><th scope=col>SMC01-T_AAAGATGCATGGATGG</th><th scope=col>SMC01-T_AAAGATGTCACGACTA</th><th scope=col>SMC01-T_AAAGATGTCCGTTGCT</th><th scope=col>SMC01-T_AAAGCAACAGTCGATT</th><th scope=col>⋯</th><th scope=col>SMC10-N_GCCAAATAGGATGCGT</th><th scope=col>SMC10-N_GGTGAAGAGCTAGCCC</th><th scope=col>SMC10-N_GTATCTTGTAACGCGA</th><th scope=col>SMC10-N_GTGGGTCGTCCAACTA</th><th scope=col>SMC10-N_TAAGCGTGTCATCGGC</th><th scope=col>SMC10-N_TCAGCTCGTAGCGTCC</th><th scope=col>SMC10-N_TGACTAGCAGACGCAA</th><th scope=col>SMC10-N_TGCTACCGTCTCCATC</th><th scope=col>SMC10-N_TTTATGCAGTGTCTCA</th><th scope=col>SMC10-N_TTTGGTTAGTGCCATT</th></tr>\n",
       "\t<tr><th></th><th scope=col>&lt;int&gt;</th><th scope=col>&lt;int&gt;</th><th scope=col>&lt;int&gt;</th><th scope=col>&lt;int&gt;</th><th scope=col>&lt;int&gt;</th><th scope=col>&lt;int&gt;</th><th scope=col>&lt;int&gt;</th><th scope=col>&lt;int&gt;</th><th scope=col>&lt;int&gt;</th><th scope=col>&lt;int&gt;</th><th scope=col>⋯</th><th scope=col>&lt;int&gt;</th><th scope=col>&lt;int&gt;</th><th scope=col>&lt;int&gt;</th><th scope=col>&lt;int&gt;</th><th scope=col>&lt;int&gt;</th><th scope=col>&lt;int&gt;</th><th scope=col>&lt;int&gt;</th><th scope=col>&lt;int&gt;</th><th scope=col>&lt;int&gt;</th><th scope=col>&lt;int&gt;</th></tr>\n",
       "</thead>\n",
       "<tbody>\n",
       "\t<tr><th scope=row>A1BG</th><td>0</td><td>0</td><td>0</td><td>0</td><td>0</td><td>0</td><td>0</td><td>0</td><td>0</td><td>0</td><td>⋯</td><td>0</td><td>0</td><td>1</td><td>1</td><td>0</td><td>0</td><td>0</td><td>0</td><td>0</td><td>0</td></tr>\n",
       "\t<tr><th scope=row>A1BG-AS1</th><td>0</td><td>0</td><td>0</td><td>0</td><td>0</td><td>0</td><td>0</td><td>0</td><td>0</td><td>0</td><td>⋯</td><td>1</td><td>0</td><td>0</td><td>0</td><td>0</td><td>0</td><td>0</td><td>0</td><td>0</td><td>0</td></tr>\n",
       "\t<tr><th scope=row>A1CF</th><td>0</td><td>2</td><td>0</td><td>0</td><td>3</td><td>0</td><td>0</td><td>0</td><td>0</td><td>0</td><td>⋯</td><td>0</td><td>0</td><td>0</td><td>0</td><td>0</td><td>0</td><td>0</td><td>0</td><td>0</td><td>0</td></tr>\n",
       "\t<tr><th scope=row>A2M</th><td>0</td><td>0</td><td>0</td><td>0</td><td>0</td><td>0</td><td>0</td><td>1</td><td>0</td><td>0</td><td>⋯</td><td>0</td><td>0</td><td>0</td><td>0</td><td>0</td><td>0</td><td>0</td><td>0</td><td>0</td><td>0</td></tr>\n",
       "\t<tr><th scope=row>A2M-AS1</th><td>0</td><td>0</td><td>0</td><td>0</td><td>0</td><td>0</td><td>0</td><td>0</td><td>0</td><td>0</td><td>⋯</td><td>0</td><td>0</td><td>0</td><td>0</td><td>0</td><td>0</td><td>0</td><td>0</td><td>0</td><td>0</td></tr>\n",
       "\t<tr><th scope=row>A2ML1</th><td>0</td><td>0</td><td>0</td><td>0</td><td>0</td><td>0</td><td>0</td><td>0</td><td>0</td><td>0</td><td>⋯</td><td>0</td><td>0</td><td>0</td><td>0</td><td>0</td><td>0</td><td>0</td><td>0</td><td>0</td><td>0</td></tr>\n",
       "</tbody>\n",
       "</table>\n"
      ],
      "text/latex": [
       "A data.frame: 6 × 63689\n",
       "\\begin{tabular}{r|lllllllllllllllllllll}\n",
       "  & SMC01-T\\_AAACCTGCATACGCCG & SMC01-T\\_AAACCTGGTCGCATAT & SMC01-T\\_AAACCTGTCCCTTGCA & SMC01-T\\_AAACGGGAGGGAAACA & SMC01-T\\_AAACGGGGTATAGGTA & SMC01-T\\_AAAGATGAGGCCGAAT & SMC01-T\\_AAAGATGCATGGATGG & SMC01-T\\_AAAGATGTCACGACTA & SMC01-T\\_AAAGATGTCCGTTGCT & SMC01-T\\_AAAGCAACAGTCGATT & ⋯ & SMC10-N\\_GCCAAATAGGATGCGT & SMC10-N\\_GGTGAAGAGCTAGCCC & SMC10-N\\_GTATCTTGTAACGCGA & SMC10-N\\_GTGGGTCGTCCAACTA & SMC10-N\\_TAAGCGTGTCATCGGC & SMC10-N\\_TCAGCTCGTAGCGTCC & SMC10-N\\_TGACTAGCAGACGCAA & SMC10-N\\_TGCTACCGTCTCCATC & SMC10-N\\_TTTATGCAGTGTCTCA & SMC10-N\\_TTTGGTTAGTGCCATT\\\\\n",
       "  & <int> & <int> & <int> & <int> & <int> & <int> & <int> & <int> & <int> & <int> & ⋯ & <int> & <int> & <int> & <int> & <int> & <int> & <int> & <int> & <int> & <int>\\\\\n",
       "\\hline\n",
       "\tA1BG & 0 & 0 & 0 & 0 & 0 & 0 & 0 & 0 & 0 & 0 & ⋯ & 0 & 0 & 1 & 1 & 0 & 0 & 0 & 0 & 0 & 0\\\\\n",
       "\tA1BG-AS1 & 0 & 0 & 0 & 0 & 0 & 0 & 0 & 0 & 0 & 0 & ⋯ & 1 & 0 & 0 & 0 & 0 & 0 & 0 & 0 & 0 & 0\\\\\n",
       "\tA1CF & 0 & 2 & 0 & 0 & 3 & 0 & 0 & 0 & 0 & 0 & ⋯ & 0 & 0 & 0 & 0 & 0 & 0 & 0 & 0 & 0 & 0\\\\\n",
       "\tA2M & 0 & 0 & 0 & 0 & 0 & 0 & 0 & 1 & 0 & 0 & ⋯ & 0 & 0 & 0 & 0 & 0 & 0 & 0 & 0 & 0 & 0\\\\\n",
       "\tA2M-AS1 & 0 & 0 & 0 & 0 & 0 & 0 & 0 & 0 & 0 & 0 & ⋯ & 0 & 0 & 0 & 0 & 0 & 0 & 0 & 0 & 0 & 0\\\\\n",
       "\tA2ML1 & 0 & 0 & 0 & 0 & 0 & 0 & 0 & 0 & 0 & 0 & ⋯ & 0 & 0 & 0 & 0 & 0 & 0 & 0 & 0 & 0 & 0\\\\\n",
       "\\end{tabular}\n"
      ],
      "text/markdown": [
       "\n",
       "A data.frame: 6 × 63689\n",
       "\n",
       "| <!--/--> | SMC01-T_AAACCTGCATACGCCG &lt;int&gt; | SMC01-T_AAACCTGGTCGCATAT &lt;int&gt; | SMC01-T_AAACCTGTCCCTTGCA &lt;int&gt; | SMC01-T_AAACGGGAGGGAAACA &lt;int&gt; | SMC01-T_AAACGGGGTATAGGTA &lt;int&gt; | SMC01-T_AAAGATGAGGCCGAAT &lt;int&gt; | SMC01-T_AAAGATGCATGGATGG &lt;int&gt; | SMC01-T_AAAGATGTCACGACTA &lt;int&gt; | SMC01-T_AAAGATGTCCGTTGCT &lt;int&gt; | SMC01-T_AAAGCAACAGTCGATT &lt;int&gt; | ⋯ ⋯ | SMC10-N_GCCAAATAGGATGCGT &lt;int&gt; | SMC10-N_GGTGAAGAGCTAGCCC &lt;int&gt; | SMC10-N_GTATCTTGTAACGCGA &lt;int&gt; | SMC10-N_GTGGGTCGTCCAACTA &lt;int&gt; | SMC10-N_TAAGCGTGTCATCGGC &lt;int&gt; | SMC10-N_TCAGCTCGTAGCGTCC &lt;int&gt; | SMC10-N_TGACTAGCAGACGCAA &lt;int&gt; | SMC10-N_TGCTACCGTCTCCATC &lt;int&gt; | SMC10-N_TTTATGCAGTGTCTCA &lt;int&gt; | SMC10-N_TTTGGTTAGTGCCATT &lt;int&gt; |\n",
       "|---|---|---|---|---|---|---|---|---|---|---|---|---|---|---|---|---|---|---|---|---|---|\n",
       "| A1BG | 0 | 0 | 0 | 0 | 0 | 0 | 0 | 0 | 0 | 0 | ⋯ | 0 | 0 | 1 | 1 | 0 | 0 | 0 | 0 | 0 | 0 |\n",
       "| A1BG-AS1 | 0 | 0 | 0 | 0 | 0 | 0 | 0 | 0 | 0 | 0 | ⋯ | 1 | 0 | 0 | 0 | 0 | 0 | 0 | 0 | 0 | 0 |\n",
       "| A1CF | 0 | 2 | 0 | 0 | 3 | 0 | 0 | 0 | 0 | 0 | ⋯ | 0 | 0 | 0 | 0 | 0 | 0 | 0 | 0 | 0 | 0 |\n",
       "| A2M | 0 | 0 | 0 | 0 | 0 | 0 | 0 | 1 | 0 | 0 | ⋯ | 0 | 0 | 0 | 0 | 0 | 0 | 0 | 0 | 0 | 0 |\n",
       "| A2M-AS1 | 0 | 0 | 0 | 0 | 0 | 0 | 0 | 0 | 0 | 0 | ⋯ | 0 | 0 | 0 | 0 | 0 | 0 | 0 | 0 | 0 | 0 |\n",
       "| A2ML1 | 0 | 0 | 0 | 0 | 0 | 0 | 0 | 0 | 0 | 0 | ⋯ | 0 | 0 | 0 | 0 | 0 | 0 | 0 | 0 | 0 | 0 |\n",
       "\n"
      ],
      "text/plain": [
       "         SMC01-T_AAACCTGCATACGCCG SMC01-T_AAACCTGGTCGCATAT\n",
       "A1BG     0                        0                       \n",
       "A1BG-AS1 0                        0                       \n",
       "A1CF     0                        2                       \n",
       "A2M      0                        0                       \n",
       "A2M-AS1  0                        0                       \n",
       "A2ML1    0                        0                       \n",
       "         SMC01-T_AAACCTGTCCCTTGCA SMC01-T_AAACGGGAGGGAAACA\n",
       "A1BG     0                        0                       \n",
       "A1BG-AS1 0                        0                       \n",
       "A1CF     0                        0                       \n",
       "A2M      0                        0                       \n",
       "A2M-AS1  0                        0                       \n",
       "A2ML1    0                        0                       \n",
       "         SMC01-T_AAACGGGGTATAGGTA SMC01-T_AAAGATGAGGCCGAAT\n",
       "A1BG     0                        0                       \n",
       "A1BG-AS1 0                        0                       \n",
       "A1CF     3                        0                       \n",
       "A2M      0                        0                       \n",
       "A2M-AS1  0                        0                       \n",
       "A2ML1    0                        0                       \n",
       "         SMC01-T_AAAGATGCATGGATGG SMC01-T_AAAGATGTCACGACTA\n",
       "A1BG     0                        0                       \n",
       "A1BG-AS1 0                        0                       \n",
       "A1CF     0                        0                       \n",
       "A2M      0                        1                       \n",
       "A2M-AS1  0                        0                       \n",
       "A2ML1    0                        0                       \n",
       "         SMC01-T_AAAGATGTCCGTTGCT SMC01-T_AAAGCAACAGTCGATT ⋯\n",
       "A1BG     0                        0                        ⋯\n",
       "A1BG-AS1 0                        0                        ⋯\n",
       "A1CF     0                        0                        ⋯\n",
       "A2M      0                        0                        ⋯\n",
       "A2M-AS1  0                        0                        ⋯\n",
       "A2ML1    0                        0                        ⋯\n",
       "         SMC10-N_GCCAAATAGGATGCGT SMC10-N_GGTGAAGAGCTAGCCC\n",
       "A1BG     0                        0                       \n",
       "A1BG-AS1 1                        0                       \n",
       "A1CF     0                        0                       \n",
       "A2M      0                        0                       \n",
       "A2M-AS1  0                        0                       \n",
       "A2ML1    0                        0                       \n",
       "         SMC10-N_GTATCTTGTAACGCGA SMC10-N_GTGGGTCGTCCAACTA\n",
       "A1BG     1                        1                       \n",
       "A1BG-AS1 0                        0                       \n",
       "A1CF     0                        0                       \n",
       "A2M      0                        0                       \n",
       "A2M-AS1  0                        0                       \n",
       "A2ML1    0                        0                       \n",
       "         SMC10-N_TAAGCGTGTCATCGGC SMC10-N_TCAGCTCGTAGCGTCC\n",
       "A1BG     0                        0                       \n",
       "A1BG-AS1 0                        0                       \n",
       "A1CF     0                        0                       \n",
       "A2M      0                        0                       \n",
       "A2M-AS1  0                        0                       \n",
       "A2ML1    0                        0                       \n",
       "         SMC10-N_TGACTAGCAGACGCAA SMC10-N_TGCTACCGTCTCCATC\n",
       "A1BG     0                        0                       \n",
       "A1BG-AS1 0                        0                       \n",
       "A1CF     0                        0                       \n",
       "A2M      0                        0                       \n",
       "A2M-AS1  0                        0                       \n",
       "A2ML1    0                        0                       \n",
       "         SMC10-N_TTTATGCAGTGTCTCA SMC10-N_TTTGGTTAGTGCCATT\n",
       "A1BG     0                        0                       \n",
       "A1BG-AS1 0                        0                       \n",
       "A1CF     0                        0                       \n",
       "A2M      0                        0                       \n",
       "A2M-AS1  0                        0                       \n",
       "A2ML1    0                        0                       "
      ]
     },
     "metadata": {},
     "output_type": "display_data"
    }
   ],
   "source": [
    "head(RAW1)"
   ]
  },
  {
   "cell_type": "code",
   "execution_count": 6,
   "metadata": {},
   "outputs": [],
   "source": [
    "rownames(RAW1) <- RAW1[,1]\n",
    "RAW1<-RAW1[,-1]"
   ]
  },
  {
   "cell_type": "code",
   "execution_count": null,
   "metadata": {},
   "outputs": [],
   "source": [
    "write.table(RAW1,row.names = TRUE,sep = \"\\t\",col.names = TRUE)"
   ]
  },
  {
   "cell_type": "code",
   "execution_count": null,
   "metadata": {},
   "outputs": [],
   "source": []
  }
 ],
 "metadata": {
  "kernelspec": {
   "display_name": "R",
   "language": "R",
   "name": "ir"
  },
  "language_info": {
   "codemirror_mode": "r",
   "file_extension": ".r",
   "mimetype": "text/x-r-source",
   "name": "R",
   "pygments_lexer": "r",
   "version": "4.0.2"
  }
 },
 "nbformat": 4,
 "nbformat_minor": 4
}
