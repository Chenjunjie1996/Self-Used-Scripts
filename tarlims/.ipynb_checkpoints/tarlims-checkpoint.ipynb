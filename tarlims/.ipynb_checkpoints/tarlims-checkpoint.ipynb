{
 "cells": [
  {
   "cell_type": "code",
   "execution_count": 36,
   "id": "parallel-steam",
   "metadata": {},
   "outputs": [],
   "source": [
    "import pandas as pd\n",
    "import os \n",
    "import glob\n",
    "import re"
   ]
  },
  {
   "cell_type": "code",
   "execution_count": 53,
   "id": "under-desire",
   "metadata": {},
   "outputs": [],
   "source": [
    "mapfile = pd.read_csv('/SGRNJ03/randd/cjj/Script/sctest/tarlims/test.mapfile',sep='\\t', names=[\"id\", \"path\", \"sample\", \"lims_path\"])"
   ]
  },
  {
   "cell_type": "code",
   "execution_count": 54,
   "id": "noticed-criticism",
   "metadata": {},
   "outputs": [
    {
     "data": {
      "text/html": [
       "<div>\n",
       "<style scoped>\n",
       "    .dataframe tbody tr th:only-of-type {\n",
       "        vertical-align: middle;\n",
       "    }\n",
       "\n",
       "    .dataframe tbody tr th {\n",
       "        vertical-align: top;\n",
       "    }\n",
       "\n",
       "    .dataframe thead th {\n",
       "        text-align: right;\n",
       "    }\n",
       "</style>\n",
       "<table border=\"1\" class=\"dataframe\">\n",
       "  <thead>\n",
       "    <tr style=\"text-align: right;\">\n",
       "      <th></th>\n",
       "      <th>id</th>\n",
       "      <th>path</th>\n",
       "      <th>sample</th>\n",
       "      <th>lims_path</th>\n",
       "    </tr>\n",
       "  </thead>\n",
       "  <tbody>\n",
       "    <tr>\n",
       "      <th>0</th>\n",
       "      <td>R210910087</td>\n",
       "      <td>/SGRNJ03/DATA03/2109/20210916_3</td>\n",
       "      <td>H_0908P2_B10_2Nlib</td>\n",
       "      <td>/SGRNJ03/PROJ03/PROJ_20.lims/P20102002_SCOPEv2...</td>\n",
       "    </tr>\n",
       "    <tr>\n",
       "      <th>1</th>\n",
       "      <td>R210910088</td>\n",
       "      <td>/SGRNJ03/DATA03/2109/20210916_3</td>\n",
       "      <td>H_0908P2_B11_2Nlib</td>\n",
       "      <td>/SGRNJ03/PROJ03/PROJ_20.lims/P20102002_SCOPEv2...</td>\n",
       "    </tr>\n",
       "    <tr>\n",
       "      <th>2</th>\n",
       "      <td>R210910089</td>\n",
       "      <td>/SGRNJ03/DATA03/2109/20210916_3</td>\n",
       "      <td>H_0908P2_B12_2Nlib</td>\n",
       "      <td>/SGRNJ03/PROJ03/PROJ_20.lims/P20102002_SCOPEv2...</td>\n",
       "    </tr>\n",
       "  </tbody>\n",
       "</table>\n",
       "</div>"
      ],
      "text/plain": [
       "           id                             path              sample  \\\n",
       "0  R210910087  /SGRNJ03/DATA03/2109/20210916_3  H_0908P2_B10_2Nlib   \n",
       "1  R210910088  /SGRNJ03/DATA03/2109/20210916_3  H_0908P2_B11_2Nlib   \n",
       "2  R210910089  /SGRNJ03/DATA03/2109/20210916_3  H_0908P2_B12_2Nlib   \n",
       "\n",
       "                                           lims_path  \n",
       "0  /SGRNJ03/PROJ03/PROJ_20.lims/P20102002_SCOPEv2...  \n",
       "1  /SGRNJ03/PROJ03/PROJ_20.lims/P20102002_SCOPEv2...  \n",
       "2  /SGRNJ03/PROJ03/PROJ_20.lims/P20102002_SCOPEv2...  "
      ]
     },
     "execution_count": 54,
     "metadata": {},
     "output_type": "execute_result"
    }
   ],
   "source": [
    "mapfile"
   ]
  },
  {
   "cell_type": "code",
   "execution_count": 49,
   "id": "preceding-wound",
   "metadata": {},
   "outputs": [],
   "source": [
    "lims_path = mapfile['lims_path'].tolist()"
   ]
  },
  {
   "cell_type": "code",
   "execution_count": 50,
   "id": "handy-bikini",
   "metadata": {},
   "outputs": [
    {
     "data": {
      "text/plain": [
       "['/SGRNJ03/PROJ03/PROJ_20.lims/P20102002_SCOPEv2/YSM_P3/1d845caf-3915-403f-92cf-4d5f20e30434',\n",
       " '/SGRNJ03/PROJ03/PROJ_20.lims/P20102002_SCOPEv2/YSM_P3/1d845caf-3915-403f-92cf-4d5f20e30434',\n",
       " '/SGRNJ03/PROJ03/PROJ_20.lims/P20102002_SCOPEv2/YSM_P3/1d845caf-3915-403f-92cf-4d5f20e30434']"
      ]
     },
     "execution_count": 50,
     "metadata": {},
     "output_type": "execute_result"
    }
   ],
   "source": [
    "lims_path"
   ]
  },
  {
   "cell_type": "code",
   "execution_count": 51,
   "id": "optional-newfoundland",
   "metadata": {},
   "outputs": [],
   "source": [
    "    lims_path_list = mapfile['lims_path'].tolist()\n",
    "    new_lims_path_list = []\n",
    "    for i in lims_path_list:\n",
    "        tar_path = glob.glob(f\"{i}/*/*_matrix_10X.tar\")[0]\n",
    "        matrix = tar_path.split('/')[-1]\n",
    "        patt = r'_matrix_10X.tar'\n",
    "        sample = re.sub(patt, \"\", matrix)\n",
    "        target_matrix_path = os.path.abspath(f\"./match_dir/{sample}/05.count/{sample}_matrix_10X\")\n",
    "        #os.system(f\"mkdir {target_matrix_path}\")\n",
    "        #os.system(f\"cp {tar_path} {target_matrix_path}\")\n",
    "        #os.system(f\"tar -xvf {target_matrix_path}/*_matrix_10X.tar\")\n",
    "        new_lims_path_list.append('/'.join(target_matrix_path.split('/')[:-2]))"
   ]
  },
  {
   "cell_type": "code",
   "execution_count": 52,
   "id": "adult-campus",
   "metadata": {},
   "outputs": [
    {
     "data": {
      "text/plain": [
       "['/SGRNJ03/randd/cjj/Script/tarlims/match_dir/YSM_P3_auto',\n",
       " '/SGRNJ03/randd/cjj/Script/tarlims/match_dir/YSM_P3_auto',\n",
       " '/SGRNJ03/randd/cjj/Script/tarlims/match_dir/YSM_P3_auto']"
      ]
     },
     "execution_count": 52,
     "metadata": {},
     "output_type": "execute_result"
    }
   ],
   "source": [
    "new_lims_path_list"
   ]
  },
  {
   "cell_type": "code",
   "execution_count": 43,
   "id": "formed-individual",
   "metadata": {},
   "outputs": [],
   "source": [
    "mapfile['lims_path']=new_lims_path_list"
   ]
  },
  {
   "cell_type": "code",
   "execution_count": 46,
   "id": "funky-ferry",
   "metadata": {},
   "outputs": [],
   "source": [
    "mapfile.to_csv(\"/SGRNJ03/randd/cjj/Script/tarlims/new.mapfile\",sep='\\t',header=False, index=False)"
   ]
  },
  {
   "cell_type": "code",
   "execution_count": null,
   "id": "latest-delhi",
   "metadata": {},
   "outputs": [],
   "source": []
  }
 ],
 "metadata": {
  "kernelspec": {
   "display_name": "Python 3",
   "language": "python",
   "name": "python3"
  },
  "language_info": {
   "codemirror_mode": {
    "name": "ipython",
    "version": 3
   },
   "file_extension": ".py",
   "mimetype": "text/x-python",
   "name": "python",
   "nbconvert_exporter": "python",
   "pygments_lexer": "ipython3",
   "version": "3.7.10"
  }
 },
 "nbformat": 4,
 "nbformat_minor": 5
}
