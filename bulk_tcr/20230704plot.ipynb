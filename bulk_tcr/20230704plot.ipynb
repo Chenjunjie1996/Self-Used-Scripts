{
 "cells": [
  {
   "cell_type": "code",
   "execution_count": null,
   "id": "overhead-adams",
   "metadata": {},
   "outputs": [],
   "source": [
    "import pandas as pd\n",
    "from pandas import Series\n",
    "import glob\n",
    "import plotly\n",
    "import plotly.express as px  # import plotly.express as px\n",
    "import plotly.graph_objects as go\n",
    "import seaborn as sns\n",
    "import matplotlib.pyplot as plt"
   ]
  },
  {
   "cell_type": "code",
   "execution_count": null,
   "id": "polished-charles",
   "metadata": {},
   "outputs": [],
   "source": [
    "def calc_corr(a,b):\n",
    "    s1 = Series(a)\n",
    "    s2 = Series(b)\n",
    "    return round(s1.corr(s2), 3)"
   ]
  },
  {
   "cell_type": "code",
   "execution_count": null,
   "id": "opposite-chair",
   "metadata": {},
   "outputs": [],
   "source": [
    "# human tcr\n",
    "df = pd.read_csv(\"/SGRNJ06/randd/USER/cjj/celedev/vdj_bulk/20230704plot/human_tcr/human_tcr.csv\")\n",
    "df"
   ]
  },
  {
   "cell_type": "code",
   "execution_count": null,
   "id": "opponent-atlanta",
   "metadata": {},
   "outputs": [],
   "source": [
    "df[\"Raw_Reads\"] = df[\"Raw_Reads\"].str.replace(',','').astype(int)\n",
    "df[\"UMI_Counts\"] = df[\"UMI_Counts\"].str.replace(',','').astype(int)\n",
    "df[\"types\"] = df[\"types\"].astype(int)\n",
    "df[\"Clonotype_Diversity\"] = df[\"Clonotype_Diversity\"].astype(float)\n",
    "df[\"UMIs_Mapped_Confidently_To_VJ_Gene\"] = df[\"UMIs_Mapped_Confidently_To_VJ_Gene\"].apply(lambda x: x.split('(')[-1]).str.replace(')','').str.replace(\"%\",'').astype(float)\n",
    "df[\"UMIs_Mapped_To_TRA\"] = df[\"UMIs_Mapped_To_TRA\"].apply(lambda x: x.split('(')[-1]).str.replace(')','').str.replace(\"%\",'').astype(float)\n",
    "df[\"UMIs_Mapped_To_TRB\"] = df[\"UMIs_Mapped_To_TRB\"].apply(lambda x: x.split('(')[-1]).str.replace(')','').str.replace(\"%\",'').astype(float)\n",
    "df[\"species\"] = \"Human_TCR\"\n",
    "df[\"index\"] = df.index"
   ]
  },
  {
   "cell_type": "code",
   "execution_count": null,
   "id": "coupled-charger",
   "metadata": {},
   "outputs": [],
   "source": [
    "df"
   ]
  },
  {
   "cell_type": "code",
   "execution_count": null,
   "id": "absent-couple",
   "metadata": {},
   "outputs": [],
   "source": [
    "fig = px.scatter(\n",
    "    df, # scatter绘制散点图\n",
    "    x='Raw_Reads',    #  x轴\n",
    "    y='UMI_Counts',  # y轴\n",
    "    color = 'UMI_Counts',\n",
    "    labels = calc_corr(df[\"Raw_Reads\"], df[\"UMI_Counts\"]),\n",
    "    width=1680, height=1024\n",
    ")\n",
    "fig.update_traces(marker_size=10)\n",
    "fig.update_layout(title=f'Human-TCR-96well (Correlation={calc_corr(df[\"Raw_Reads\"], df[\"UMI_Counts\"])})')\n",
    "\n",
    "fig.write_image(f\"/SGRNJ06/randd/USER/cjj/celedev/vdj_bulk/20230704plot/human_tcr/scatter.png\", scale=4)\n",
    "#fig.show()"
   ]
  },
  {
   "cell_type": "code",
   "execution_count": null,
   "id": "ordered-income",
   "metadata": {},
   "outputs": [],
   "source": []
  },
  {
   "cell_type": "code",
   "execution_count": null,
   "id": "underlying-vault",
   "metadata": {},
   "outputs": [],
   "source": [
    "df"
   ]
  },
  {
   "cell_type": "code",
   "execution_count": null,
   "id": "thorough-cycling",
   "metadata": {},
   "outputs": [],
   "source": [
    "labels = list(df.index)\n",
    "labels = [(i+1) for i in labels]\n",
    "value =  [list(df.UMIs_Mapped_Confidently_To_VJ_Gene), list(df.UMIs_Mapped_To_TRA), list(df.UMIs_Mapped_To_TRB)]\n",
    "fig = px.box(x=labels,y=value, width=1920, height=720, labels={'value':'UMIs Mapped To TRA / TRB / AnyVDJGenes (%)', 'x': 'Index Number (1-96)'})\n",
    "fig.update_layout(title=f'Human-TCR-96well')\n",
    "fig.write_image(f\"/SGRNJ06/randd/USER/cjj/celedev/vdj_bulk/20230704plot/human_tcr/boxplot.png\", scale=4)\n",
    "#fig.show()"
   ]
  },
  {
   "cell_type": "code",
   "execution_count": null,
   "id": "naval-values",
   "metadata": {},
   "outputs": [],
   "source": []
  },
  {
   "cell_type": "code",
   "execution_count": null,
   "id": "chief-venice",
   "metadata": {},
   "outputs": [],
   "source": [
    "fig = px.scatter(\n",
    "    df, # scatter绘制散点图\n",
    "    x='Raw_Reads',    #  x轴\n",
    "    y='Clonotype_Diversity',  # y轴\n",
    "    color = 'Clonotype_Diversity',\n",
    "    labels = calc_corr(df[\"Raw_Reads\"], df[\"Clonotype_Diversity\"]),\n",
    "    width=1680, height=1024\n",
    ")\n",
    "fig.update_traces(marker_size=10)\n",
    "fig.update_layout(title=f'Human-TCR-96well Diversity (Correlation={calc_corr(df[\"Raw_Reads\"], df[\"Clonotype_Diversity\"])})')\n",
    "\n",
    "fig.write_image(f\"/SGRNJ06/randd/USER/cjj/celedev/vdj_bulk/20230704plot/human_tcr/diversity_read_scatter.png\", scale=4)\n",
    "#fig.show()"
   ]
  },
  {
   "cell_type": "code",
   "execution_count": null,
   "id": "addressed-diagram",
   "metadata": {},
   "outputs": [],
   "source": [
    "fig = px.scatter(\n",
    "    df, # scatter绘制散点图\n",
    "    x='UMI_Counts',    #  x轴\n",
    "    y='Clonotype_Diversity',  # y轴\n",
    "    color = 'Clonotype_Diversity',\n",
    "    labels = calc_corr(df[\"UMI_Counts\"], df[\"Clonotype_Diversity\"]),\n",
    "    width=1680, height=1024\n",
    ")\n",
    "fig.update_traces(marker_size=10)\n",
    "fig.update_layout(title=f'Human-TCR-96well Diversity (Correlation={calc_corr(df[\"UMI_Counts\"], df[\"Clonotype_Diversity\"])})')\n",
    "\n",
    "#fig.write_image(f\"/SGRNJ06/randd/USER/cjj/celedev/vdj_bulk/20230704plot/human_tcr/diversity_umi_scatter.png\", scale=4)\n",
    "fig.show()"
   ]
  },
  {
   "cell_type": "code",
   "execution_count": null,
   "id": "fitting-jacksonville",
   "metadata": {},
   "outputs": [],
   "source": []
  },
  {
   "cell_type": "code",
   "execution_count": null,
   "id": "sharp-interest",
   "metadata": {},
   "outputs": [],
   "source": []
  },
  {
   "cell_type": "code",
   "execution_count": null,
   "id": "separated-expression",
   "metadata": {},
   "outputs": [],
   "source": []
  },
  {
   "cell_type": "code",
   "execution_count": null,
   "id": "minus-standard",
   "metadata": {},
   "outputs": [],
   "source": [
    "# human bcr\n",
    "df = pd.read_csv(\"/SGRNJ06/randd/USER/cjj/celedev/vdj_bulk/20230704plot/human_bcr/human_bcr.csv\")\n",
    "df"
   ]
  },
  {
   "cell_type": "code",
   "execution_count": null,
   "id": "shaped-mainland",
   "metadata": {},
   "outputs": [],
   "source": [
    "df[\"Raw_Reads\"] = df[\"Raw_Reads\"].str.replace(',','').astype(int)\n",
    "df[\"UMI_Counts\"] = df[\"UMI_Counts\"].str.replace(',','').astype(int)\n",
    "df[\"types\"] = df[\"types\"].astype(int)\n",
    "df[\"Clonotype_Diversity\"] = df[\"Clonotype_Diversity\"].astype(float)\n",
    "df[\"UMIs_Mapped_Confidently_To_VJ_Gene\"] = df[\"UMIs_Mapped_Confidently_To_VJ_Gene\"].apply(lambda x: x.split('(')[-1]).str.replace(')','').str.replace(\"%\",'').astype(float)\n",
    "df[\"UMIs_Mapped_To_IGH\"] = df[\"UMIs_Mapped_To_IGH\"].apply(lambda x: x.split('(')[-1]).str.replace(')','').str.replace(\"%\",'').astype(float)\n",
    "df[\"UMIs_Mapped_To_IGL\"] = df[\"UMIs_Mapped_To_IGL\"].apply(lambda x: x.split('(')[-1]).str.replace(')','').str.replace(\"%\",'').astype(float)\n",
    "df[\"UMIs_Mapped_To_IGK\"] = df[\"UMIs_Mapped_To_IGK\"].apply(lambda x: x.split('(')[-1]).str.replace(')','').str.replace(\"%\",'').astype(float)\n",
    "df[\"species\"] = \"Human_BCR\"\n",
    "df[\"index\"] = df.index"
   ]
  },
  {
   "cell_type": "code",
   "execution_count": null,
   "id": "thermal-hampton",
   "metadata": {},
   "outputs": [],
   "source": [
    "df"
   ]
  },
  {
   "cell_type": "code",
   "execution_count": null,
   "id": "latin-shade",
   "metadata": {},
   "outputs": [],
   "source": [
    "fig = px.scatter(\n",
    "    df, # scatter绘制散点图\n",
    "    x='Raw_Reads',    #  x轴\n",
    "    y='UMI_Counts',  # y轴\n",
    "    color = 'UMI_Counts',\n",
    "    labels = calc_corr(df[\"Raw_Reads\"], df[\"UMI_Counts\"]),\n",
    "    width=1680, height=1024\n",
    ")\n",
    "fig.update_traces(marker_size=10)\n",
    "fig.update_layout(title=f'Human-BCR-96well (Correlation={calc_corr(df[\"Raw_Reads\"], df[\"UMI_Counts\"])})')\n",
    "\n",
    "fig.write_image(f\"/SGRNJ06/randd/USER/cjj/celedev/vdj_bulk/20230704plot/human_bcr/scatter.png\", scale=4)\n",
    "#fig.show()"
   ]
  },
  {
   "cell_type": "code",
   "execution_count": null,
   "id": "brave-tenant",
   "metadata": {},
   "outputs": [],
   "source": [
    "df[\"UMIs_Mapped_To_IGKorL\"] = df[\"UMIs_Mapped_To_IGK\"] + df[\"UMIs_Mapped_To_IGL\"]"
   ]
  },
  {
   "cell_type": "code",
   "execution_count": null,
   "id": "experimental-video",
   "metadata": {},
   "outputs": [],
   "source": [
    "labels = list(df.index)\n",
    "labels = [(i+1) for i in labels]\n",
    "value =  [list(df.UMIs_Mapped_Confidently_To_VJ_Gene), list(df.UMIs_Mapped_To_IGH), list(df.UMIs_Mapped_To_IGKorL)]\n",
    "fig = px.box(x=labels,y=value, width=1920, height=720, labels={'value':'UMIs Mapped To IGH / IGKorL / AnyVDJGenes (%)', 'x': 'Index Number (1-96)'})\n",
    "fig.update_layout(title=f'Human-BCR-96well')\n",
    "fig.write_image(f\"/SGRNJ06/randd/USER/cjj/celedev/vdj_bulk/20230704plot/human_bcr/boxplot.png\", scale=4)\n",
    "#fig.show()"
   ]
  },
  {
   "cell_type": "code",
   "execution_count": null,
   "id": "radio-filter",
   "metadata": {},
   "outputs": [],
   "source": []
  },
  {
   "cell_type": "code",
   "execution_count": null,
   "id": "appointed-toolbox",
   "metadata": {},
   "outputs": [],
   "source": [
    "fig = px.scatter(\n",
    "    df, # scatter绘制散点图\n",
    "    x='Raw_Reads',    #  x轴\n",
    "    y='Clonotype_Diversity',  # y轴\n",
    "    color = 'Clonotype_Diversity',\n",
    "    labels = calc_corr(df[\"Raw_Reads\"], df[\"Clonotype_Diversity\"]),\n",
    "    width=1680, height=1024\n",
    ")\n",
    "fig.update_traces(marker_size=10)\n",
    "fig.update_layout(title=f'Human-BCR-96well Diversity (Correlation={calc_corr(df[\"Raw_Reads\"], df[\"Clonotype_Diversity\"])})')\n",
    "\n",
    "fig.write_image(f\"/SGRNJ06/randd/USER/cjj/celedev/vdj_bulk/20230704plot/human_bcr/diversity_read_scatter.png\", scale=4)\n",
    "#fig.show()"
   ]
  },
  {
   "cell_type": "code",
   "execution_count": null,
   "id": "corrected-beauty",
   "metadata": {},
   "outputs": [],
   "source": [
    "fig = px.scatter(\n",
    "    df, # scatter绘制散点图\n",
    "    x='UMI_Counts',    #  x轴\n",
    "    y='Clonotype_Diversity',  # y轴\n",
    "    color = 'Clonotype_Diversity',\n",
    "    labels = calc_corr(df[\"UMI_Counts\"], df[\"Clonotype_Diversity\"]),\n",
    "    width=1680, height=1024\n",
    ")\n",
    "fig.update_traces(marker_size=10)\n",
    "fig.update_layout(title=f'Human-BCR-96well Diversity (Correlation={calc_corr(df[\"UMI_Counts\"], df[\"Clonotype_Diversity\"])})')\n",
    "\n",
    "fig.write_image(f\"/SGRNJ06/randd/USER/cjj/celedev/vdj_bulk/20230704plot/human_bcr/diversity_umi_scatter.png\", scale=4)\n",
    "#fig.show()"
   ]
  },
  {
   "cell_type": "code",
   "execution_count": null,
   "id": "systematic-cuisine",
   "metadata": {},
   "outputs": [],
   "source": []
  },
  {
   "cell_type": "code",
   "execution_count": null,
   "id": "novel-virgin",
   "metadata": {},
   "outputs": [],
   "source": []
  },
  {
   "cell_type": "code",
   "execution_count": null,
   "id": "loose-proposition",
   "metadata": {},
   "outputs": [],
   "source": [
    "# mouse_tcr\n",
    "df = pd.read_csv(\"/SGRNJ06/randd/USER/cjj/celedev/vdj_bulk/20230704plot/mouse_tcr/mouse_tcr.csv\")\n",
    "df"
   ]
  },
  {
   "cell_type": "code",
   "execution_count": null,
   "id": "artificial-gathering",
   "metadata": {},
   "outputs": [],
   "source": [
    "df[\"Raw_Reads\"] = df[\"Raw_Reads\"].str.replace(',','').astype(int)\n",
    "df[\"UMI_Counts\"] = df[\"UMI_Counts\"].str.replace(',','').astype(int)\n",
    "df[\"Clonotype_Diversity\"] = df[\"Clonotype_Diversity\"].astype(float)\n",
    "df[\"UMIs_Mapped_Confidently_To_VJ_Gene\"] = df[\"UMIs_Mapped_Confidently_To_VJ_Gene\"].apply(lambda x: x.split('(')[-1]).str.replace(')','').str.replace(\"%\",'').astype(float)\n",
    "df[\"UMIs_Mapped_To_TRA\"] = df[\"UMIs_Mapped_To_TRA\"].apply(lambda x: x.split('(')[-1]).str.replace(')','').str.replace(\"%\",'').astype(float)\n",
    "df[\"UMIs_Mapped_To_TRB\"] = df[\"UMIs_Mapped_To_TRB\"].apply(lambda x: x.split('(')[-1]).str.replace(')','').str.replace(\"%\",'').astype(float)\n",
    "df[\"species\"] = \"Mouse_TCR\"\n",
    "df[\"index\"] = df.index"
   ]
  },
  {
   "cell_type": "code",
   "execution_count": null,
   "id": "dying-rider",
   "metadata": {},
   "outputs": [],
   "source": [
    "fig = px.scatter(\n",
    "    df, # scatter绘制散点图\n",
    "    x='Raw_Reads',    #  x轴\n",
    "    y='UMI_Counts',  # y轴\n",
    "    color = 'UMI_Counts',\n",
    "    labels = calc_corr(df[\"Raw_Reads\"], df[\"UMI_Counts\"]),\n",
    "    width=1680, height=1024\n",
    ")\n",
    "fig.update_traces(marker_size=10)\n",
    "fig.update_layout(title=f'Mouse-TCR-96well (Correlation={calc_corr(df[\"Raw_Reads\"], df[\"UMI_Counts\"])})')\n",
    "\n",
    "fig.write_image(f\"/SGRNJ06/randd/USER/cjj/celedev/vdj_bulk/20230704plot/mouse_tcr/scatter.png\", scale=4)\n",
    "#fig.show()"
   ]
  },
  {
   "cell_type": "code",
   "execution_count": null,
   "id": "promising-polish",
   "metadata": {},
   "outputs": [],
   "source": [
    "labels = list(df.index)\n",
    "labels = [(i+1) for i in labels]\n",
    "value =  [list(df.UMIs_Mapped_Confidently_To_VJ_Gene), list(df.UMIs_Mapped_To_TRA), list(df.UMIs_Mapped_To_TRB)]\n",
    "fig = px.box(x=labels,y=value, width=1920, height=720, labels={'value':'UMIs Mapped To TRA / TRB / AnyVDJGenes (%)', 'x': 'Index Number (1-96)'})\n",
    "fig.update_layout(title=f'Mouse-TCR-96well')\n",
    "fig.write_image(f\"/SGRNJ06/randd/USER/cjj/celedev/vdj_bulk/20230704plot/mouse_tcr/boxplot.png\", scale=4)\n",
    "#fig.show()"
   ]
  },
  {
   "cell_type": "code",
   "execution_count": null,
   "id": "choice-drive",
   "metadata": {},
   "outputs": [],
   "source": [
    "fig = px.scatter(\n",
    "    df, # scatter绘制散点图\n",
    "    x='Raw_Reads',    #  x轴\n",
    "    y='Clonotype_Diversity',  # y轴\n",
    "    color = 'Clonotype_Diversity',\n",
    "    labels = calc_corr(df[\"Raw_Reads\"], df[\"Clonotype_Diversity\"]),\n",
    "    width=1680, height=1024\n",
    ")\n",
    "fig.update_traces(marker_size=10)\n",
    "fig.update_layout(title=f'Mouse-TCR-96well Diversity (Correlation={calc_corr(df[\"Raw_Reads\"], df[\"Clonotype_Diversity\"])})')\n",
    "\n",
    "fig.write_image(f\"/SGRNJ06/randd/USER/cjj/celedev/vdj_bulk/20230704plot/mouse_tcr/diversity_read_scatter.png\", scale=4)\n",
    "#fig.show()"
   ]
  },
  {
   "cell_type": "code",
   "execution_count": null,
   "id": "declared-nancy",
   "metadata": {},
   "outputs": [],
   "source": [
    "fig = px.scatter(\n",
    "    df, # scatter绘制散点图\n",
    "    x='UMI_Counts',    #  x轴\n",
    "    y='Clonotype_Diversity',  # y轴\n",
    "    color = 'Clonotype_Diversity',\n",
    "    labels = calc_corr(df[\"UMI_Counts\"], df[\"Clonotype_Diversity\"]),\n",
    "    width=1680, height=1024\n",
    ")\n",
    "fig.update_traces(marker_size=10)\n",
    "fig.update_layout(title=f'Mouse-TCR-96well Diversity (Correlation={calc_corr(df[\"UMI_Counts\"], df[\"Clonotype_Diversity\"])})')\n",
    "\n",
    "fig.write_image(f\"/SGRNJ06/randd/USER/cjj/celedev/vdj_bulk/20230704plot/mouse_tcr/diversity_umi_scatter.png\", scale=4)\n",
    "#fig.show()"
   ]
  },
  {
   "cell_type": "code",
   "execution_count": null,
   "id": "circular-tragedy",
   "metadata": {},
   "outputs": [],
   "source": []
  },
  {
   "cell_type": "code",
   "execution_count": null,
   "id": "cellular-seven",
   "metadata": {},
   "outputs": [],
   "source": []
  },
  {
   "cell_type": "code",
   "execution_count": 62,
   "id": "critical-injection",
   "metadata": {},
   "outputs": [
    {
     "data": {
      "text/html": [
       "<div>\n",
       "<style scoped>\n",
       "    .dataframe tbody tr th:only-of-type {\n",
       "        vertical-align: middle;\n",
       "    }\n",
       "\n",
       "    .dataframe tbody tr th {\n",
       "        vertical-align: top;\n",
       "    }\n",
       "\n",
       "    .dataframe thead th {\n",
       "        text-align: right;\n",
       "    }\n",
       "</style>\n",
       "<table border=\"1\" class=\"dataframe\">\n",
       "  <thead>\n",
       "    <tr style=\"text-align: right;\">\n",
       "      <th></th>\n",
       "      <th>Raw_Reads</th>\n",
       "      <th>UMI_Counts</th>\n",
       "      <th>UMIs_Mapped_Confidently_To_VJ_Gene</th>\n",
       "      <th>UMIs_Mapped_To_IGH</th>\n",
       "      <th>UMIs_Mapped_To_IGL</th>\n",
       "      <th>UMIs_Mapped_To_IGK</th>\n",
       "      <th>Clonotype_Diversity</th>\n",
       "    </tr>\n",
       "  </thead>\n",
       "  <tbody>\n",
       "    <tr>\n",
       "      <th>0</th>\n",
       "      <td>1,480,350</td>\n",
       "      <td>113,103</td>\n",
       "      <td>65,997(86.02%)</td>\n",
       "      <td>18,138(23.64%)</td>\n",
       "      <td>9,110(11.87%)</td>\n",
       "      <td>38,749(50.51%)</td>\n",
       "      <td>80.64</td>\n",
       "    </tr>\n",
       "    <tr>\n",
       "      <th>1</th>\n",
       "      <td>487,506</td>\n",
       "      <td>33,896</td>\n",
       "      <td>19,472(86.77%)</td>\n",
       "      <td>5,289(23.57%)</td>\n",
       "      <td>1,988(8.86%)</td>\n",
       "      <td>12,195(54.34%)</td>\n",
       "      <td>50.55</td>\n",
       "    </tr>\n",
       "    <tr>\n",
       "      <th>2</th>\n",
       "      <td>1,623,647</td>\n",
       "      <td>112,871</td>\n",
       "      <td>65,233(85.74%)</td>\n",
       "      <td>18,460(24.26%)</td>\n",
       "      <td>7,249(9.53%)</td>\n",
       "      <td>39,524(51.95%)</td>\n",
       "      <td>114.18</td>\n",
       "    </tr>\n",
       "    <tr>\n",
       "      <th>3</th>\n",
       "      <td>1,636,017</td>\n",
       "      <td>115,664</td>\n",
       "      <td>65,804(85.27%)</td>\n",
       "      <td>18,699(24.23%)</td>\n",
       "      <td>8,080(10.47%)</td>\n",
       "      <td>39,025(50.57%)</td>\n",
       "      <td>99.25</td>\n",
       "    </tr>\n",
       "    <tr>\n",
       "      <th>4</th>\n",
       "      <td>1,349,151</td>\n",
       "      <td>94,437</td>\n",
       "      <td>52,373(84.5%)</td>\n",
       "      <td>14,258(23.0%)</td>\n",
       "      <td>6,341(10.23%)</td>\n",
       "      <td>31,774(51.26%)</td>\n",
       "      <td>44.31</td>\n",
       "    </tr>\n",
       "    <tr>\n",
       "      <th>...</th>\n",
       "      <td>...</td>\n",
       "      <td>...</td>\n",
       "      <td>...</td>\n",
       "      <td>...</td>\n",
       "      <td>...</td>\n",
       "      <td>...</td>\n",
       "      <td>...</td>\n",
       "    </tr>\n",
       "    <tr>\n",
       "      <th>91</th>\n",
       "      <td>911,145</td>\n",
       "      <td>91,009</td>\n",
       "      <td>55,621(85.62%)</td>\n",
       "      <td>14,825(22.82%)</td>\n",
       "      <td>5,728(8.82%)</td>\n",
       "      <td>35,068(53.98%)</td>\n",
       "      <td>108.01</td>\n",
       "    </tr>\n",
       "    <tr>\n",
       "      <th>92</th>\n",
       "      <td>810,925</td>\n",
       "      <td>81,448</td>\n",
       "      <td>47,158(86.54%)</td>\n",
       "      <td>11,165(20.49%)</td>\n",
       "      <td>10,193(18.7%)</td>\n",
       "      <td>25,800(47.34%)</td>\n",
       "      <td>49.36</td>\n",
       "    </tr>\n",
       "    <tr>\n",
       "      <th>93</th>\n",
       "      <td>892,317</td>\n",
       "      <td>78,181</td>\n",
       "      <td>48,177(87.66%)</td>\n",
       "      <td>13,000(23.65%)</td>\n",
       "      <td>7,790(14.17%)</td>\n",
       "      <td>27,387(49.83%)</td>\n",
       "      <td>83.30</td>\n",
       "    </tr>\n",
       "    <tr>\n",
       "      <th>94</th>\n",
       "      <td>957,491</td>\n",
       "      <td>91,877</td>\n",
       "      <td>55,035(84.51%)</td>\n",
       "      <td>14,681(22.54%)</td>\n",
       "      <td>6,841(10.5%)</td>\n",
       "      <td>33,513(51.46%)</td>\n",
       "      <td>103.17</td>\n",
       "    </tr>\n",
       "    <tr>\n",
       "      <th>95</th>\n",
       "      <td>776,731</td>\n",
       "      <td>54,155</td>\n",
       "      <td>31,142(84.51%)</td>\n",
       "      <td>8,683(23.56%)</td>\n",
       "      <td>3,799(10.31%)</td>\n",
       "      <td>18,660(50.64%)</td>\n",
       "      <td>104.99</td>\n",
       "    </tr>\n",
       "  </tbody>\n",
       "</table>\n",
       "<p>96 rows × 7 columns</p>\n",
       "</div>"
      ],
      "text/plain": [
       "    Raw_Reads UMI_Counts UMIs_Mapped_Confidently_To_VJ_Gene  \\\n",
       "0   1,480,350    113,103                     65,997(86.02%)   \n",
       "1     487,506     33,896                     19,472(86.77%)   \n",
       "2   1,623,647    112,871                     65,233(85.74%)   \n",
       "3   1,636,017    115,664                     65,804(85.27%)   \n",
       "4   1,349,151     94,437                      52,373(84.5%)   \n",
       "..        ...        ...                                ...   \n",
       "91    911,145     91,009                     55,621(85.62%)   \n",
       "92    810,925     81,448                     47,158(86.54%)   \n",
       "93    892,317     78,181                     48,177(87.66%)   \n",
       "94    957,491     91,877                     55,035(84.51%)   \n",
       "95    776,731     54,155                     31,142(84.51%)   \n",
       "\n",
       "   UMIs_Mapped_To_IGH UMIs_Mapped_To_IGL UMIs_Mapped_To_IGK  \\\n",
       "0      18,138(23.64%)      9,110(11.87%)     38,749(50.51%)   \n",
       "1       5,289(23.57%)       1,988(8.86%)     12,195(54.34%)   \n",
       "2      18,460(24.26%)       7,249(9.53%)     39,524(51.95%)   \n",
       "3      18,699(24.23%)      8,080(10.47%)     39,025(50.57%)   \n",
       "4       14,258(23.0%)      6,341(10.23%)     31,774(51.26%)   \n",
       "..                ...                ...                ...   \n",
       "91     14,825(22.82%)       5,728(8.82%)     35,068(53.98%)   \n",
       "92     11,165(20.49%)      10,193(18.7%)     25,800(47.34%)   \n",
       "93     13,000(23.65%)      7,790(14.17%)     27,387(49.83%)   \n",
       "94     14,681(22.54%)       6,841(10.5%)     33,513(51.46%)   \n",
       "95      8,683(23.56%)      3,799(10.31%)     18,660(50.64%)   \n",
       "\n",
       "    Clonotype_Diversity  \n",
       "0                 80.64  \n",
       "1                 50.55  \n",
       "2                114.18  \n",
       "3                 99.25  \n",
       "4                 44.31  \n",
       "..                  ...  \n",
       "91               108.01  \n",
       "92                49.36  \n",
       "93                83.30  \n",
       "94               103.17  \n",
       "95               104.99  \n",
       "\n",
       "[96 rows x 7 columns]"
      ]
     },
     "execution_count": 62,
     "metadata": {},
     "output_type": "execute_result"
    }
   ],
   "source": [
    "# human bcr\n",
    "df = pd.read_csv(\"/SGRNJ06/randd/USER/cjj/celedev/vdj_bulk/20230704plot/mouse_bcr/mouse_bcr.csv\")\n",
    "df"
   ]
  },
  {
   "cell_type": "code",
   "execution_count": 63,
   "id": "acting-nomination",
   "metadata": {},
   "outputs": [
    {
     "name": "stderr",
     "output_type": "stream",
     "text": [
      "/SGRNJ/Public/Software/conda_env/chenjunjie/lib/python3.7/site-packages/ipykernel_launcher.py:4: FutureWarning:\n",
      "\n",
      "The default value of regex will change from True to False in a future version. In addition, single character regular expressions will*not* be treated as literal strings when regex=True.\n",
      "\n",
      "/SGRNJ/Public/Software/conda_env/chenjunjie/lib/python3.7/site-packages/ipykernel_launcher.py:5: FutureWarning:\n",
      "\n",
      "The default value of regex will change from True to False in a future version. In addition, single character regular expressions will*not* be treated as literal strings when regex=True.\n",
      "\n",
      "/SGRNJ/Public/Software/conda_env/chenjunjie/lib/python3.7/site-packages/ipykernel_launcher.py:6: FutureWarning:\n",
      "\n",
      "The default value of regex will change from True to False in a future version. In addition, single character regular expressions will*not* be treated as literal strings when regex=True.\n",
      "\n",
      "/SGRNJ/Public/Software/conda_env/chenjunjie/lib/python3.7/site-packages/ipykernel_launcher.py:7: FutureWarning:\n",
      "\n",
      "The default value of regex will change from True to False in a future version. In addition, single character regular expressions will*not* be treated as literal strings when regex=True.\n",
      "\n"
     ]
    }
   ],
   "source": [
    "df[\"Raw_Reads\"] = df[\"Raw_Reads\"].str.replace(',','').astype(int)\n",
    "df[\"UMI_Counts\"] = df[\"UMI_Counts\"].str.replace(',','').astype(int)\n",
    "df[\"Clonotype_Diversity\"] = df[\"Clonotype_Diversity\"].astype(float)\n",
    "df[\"UMIs_Mapped_Confidently_To_VJ_Gene\"] = df[\"UMIs_Mapped_Confidently_To_VJ_Gene\"].apply(lambda x: x.split('(')[-1]).str.replace(')','').str.replace(\"%\",'').astype(float)\n",
    "df[\"UMIs_Mapped_To_IGH\"] = df[\"UMIs_Mapped_To_IGH\"].apply(lambda x: x.split('(')[-1]).str.replace(')','').str.replace(\"%\",'').astype(float)\n",
    "df[\"UMIs_Mapped_To_IGL\"] = df[\"UMIs_Mapped_To_IGL\"].apply(lambda x: x.split('(')[-1]).str.replace(')','').str.replace(\"%\",'').astype(float)\n",
    "df[\"UMIs_Mapped_To_IGK\"] = df[\"UMIs_Mapped_To_IGK\"].apply(lambda x: x.split('(')[-1]).str.replace(')','').str.replace(\"%\",'').astype(float)\n",
    "df[\"species\"] = \"Human_BCR\"\n",
    "df[\"index\"] = df.index"
   ]
  },
  {
   "cell_type": "code",
   "execution_count": 64,
   "id": "sensitive-kingston",
   "metadata": {},
   "outputs": [],
   "source": [
    "fig = px.scatter(\n",
    "    df, # scatter绘制散点图\n",
    "    x='Raw_Reads',    #  x轴\n",
    "    y='UMI_Counts',  # y轴\n",
    "    color = 'UMI_Counts',\n",
    "    labels = calc_corr(df[\"Raw_Reads\"], df[\"UMI_Counts\"]),\n",
    "    width=1680, height=1024\n",
    ")\n",
    "fig.update_traces(marker_size=10)\n",
    "fig.update_layout(title=f'Mouse-BCR-96well (Correlation={calc_corr(df[\"Raw_Reads\"], df[\"UMI_Counts\"])})')\n",
    "\n",
    "fig.write_image(f\"/SGRNJ06/randd/USER/cjj/celedev/vdj_bulk/20230704plot/mouse_bcr/scatter.png\", scale=4)\n",
    "#fig.show()"
   ]
  },
  {
   "cell_type": "code",
   "execution_count": 65,
   "id": "single-membrane",
   "metadata": {},
   "outputs": [],
   "source": [
    "df[\"UMIs_Mapped_To_IGKorL\"] = df[\"UMIs_Mapped_To_IGK\"] + df[\"UMIs_Mapped_To_IGL\"]"
   ]
  },
  {
   "cell_type": "code",
   "execution_count": 66,
   "id": "electoral-advisory",
   "metadata": {},
   "outputs": [],
   "source": [
    "labels = list(df.index)\n",
    "labels = [(i+1) for i in labels]\n",
    "value =  [list(df.UMIs_Mapped_Confidently_To_VJ_Gene), list(df.UMIs_Mapped_To_IGH), list(df.UMIs_Mapped_To_IGKorL)]\n",
    "fig = px.box(x=labels,y=value, width=1920, height=720, labels={'value':'UMIs Mapped To IGH / IGKorL / AnyVDJGenes (%)', 'x': 'Index Number (1-96)'})\n",
    "fig.update_layout(title=f'Mouse-BCR-96well')\n",
    "fig.write_image(f\"/SGRNJ06/randd/USER/cjj/celedev/vdj_bulk/20230704plot/mouse_bcr/boxplot.png\", scale=4)\n",
    "#fig.show()"
   ]
  },
  {
   "cell_type": "code",
   "execution_count": 67,
   "id": "approved-digit",
   "metadata": {},
   "outputs": [],
   "source": [
    "fig = px.scatter(\n",
    "    df, # scatter绘制散点图\n",
    "    x='Raw_Reads',    #  x轴\n",
    "    y='Clonotype_Diversity',  # y轴\n",
    "    color = 'Clonotype_Diversity',\n",
    "    labels = calc_corr(df[\"Raw_Reads\"], df[\"Clonotype_Diversity\"]),\n",
    "    width=1680, height=1024\n",
    ")\n",
    "fig.update_traces(marker_size=10)\n",
    "fig.update_layout(title=f'Mouse-BCR-96well Diversity (Correlation={calc_corr(df[\"Raw_Reads\"], df[\"Clonotype_Diversity\"])})')\n",
    "\n",
    "fig.write_image(f\"/SGRNJ06/randd/USER/cjj/celedev/vdj_bulk/20230704plot/mouse_bcr/diversity_read_scatter.png\", scale=4)\n",
    "#fig.show()"
   ]
  },
  {
   "cell_type": "code",
   "execution_count": 68,
   "id": "matched-livestock",
   "metadata": {},
   "outputs": [],
   "source": [
    "fig = px.scatter(\n",
    "    df, # scatter绘制散点图\n",
    "    x='UMI_Counts',    #  x轴\n",
    "    y='Clonotype_Diversity',  # y轴\n",
    "    color = 'Clonotype_Diversity',\n",
    "    labels = calc_corr(df[\"UMI_Counts\"], df[\"Clonotype_Diversity\"]),\n",
    "    width=1680, height=1024\n",
    ")\n",
    "fig.update_traces(marker_size=10)\n",
    "fig.update_layout(title=f'Mouse-BCR-96well Diversity (Correlation={calc_corr(df[\"UMI_Counts\"], df[\"Clonotype_Diversity\"])})')\n",
    "\n",
    "fig.write_image(f\"/SGRNJ06/randd/USER/cjj/celedev/vdj_bulk/20230704plot/mouse_bcr/diversity_umi_scatter.png\", scale=4)\n",
    "#fig.show()"
   ]
  },
  {
   "cell_type": "code",
   "execution_count": null,
   "id": "blessed-mills",
   "metadata": {},
   "outputs": [],
   "source": []
  },
  {
   "cell_type": "code",
   "execution_count": null,
   "id": "fourth-xerox",
   "metadata": {},
   "outputs": [],
   "source": []
  }
 ],
 "metadata": {
  "kernelspec": {
   "display_name": "trust4_1.7",
   "language": "python",
   "name": "trust4_1.7"
  },
  "language_info": {
   "codemirror_mode": {
    "name": "ipython",
    "version": 3
   },
   "file_extension": ".py",
   "mimetype": "text/x-python",
   "name": "python",
   "nbconvert_exporter": "python",
   "pygments_lexer": "ipython3",
   "version": "3.7.10"
  }
 },
 "nbformat": 4,
 "nbformat_minor": 5
}
