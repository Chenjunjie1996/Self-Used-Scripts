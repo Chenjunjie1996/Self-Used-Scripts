{
 "cells": [
  {
   "cell_type": "code",
   "execution_count": 222,
   "id": "another-intensity",
   "metadata": {},
   "outputs": [],
   "source": [
    "import pandas as pd\n",
    "from pandas import Series\n",
    "import glob\n",
    "import plotly\n",
    "import plotly.express as px  # import plotly.express as px\n",
    "import plotly.graph_objects as go\n",
    "import seaborn as sns\n",
    "import matplotlib.pyplot as plt\n",
    "\n",
    "import plotly.io as pio\n",
    "#pio.templates.default = 'plotly_white'"
   ]
  },
  {
   "cell_type": "code",
   "execution_count": null,
   "id": "statistical-pittsburgh",
   "metadata": {},
   "outputs": [],
   "source": [
    "def calc_corr(a,b):\n",
    "    s1 = Series(a)\n",
    "    s2 = Series(b)\n",
    "    return round(s1.corr(s2), 3)"
   ]
  },
  {
   "cell_type": "code",
   "execution_count": null,
   "id": "actual-divide",
   "metadata": {},
   "outputs": [],
   "source": [
    "# human tcr\n",
    "df = pd.read_csv(\"/SGRNJ06/randd/USER/cjj/celedev/vdj_bulk/20230704plot/human_tcr/human_tcr.csv\")\n",
    "df"
   ]
  },
  {
   "cell_type": "code",
   "execution_count": null,
   "id": "hybrid-columbia",
   "metadata": {},
   "outputs": [],
   "source": [
    "df[\"Raw_Reads\"] = df[\"Raw_Reads\"].str.replace(',','').astype(int)\n",
    "df[\"UMI_Counts\"] = df[\"UMI_Counts\"].str.replace(',','').astype(int)\n",
    "df[\"types\"] = df[\"types\"].astype(int)\n",
    "df[\"Clonotype_Diversity\"] = df[\"Clonotype_Diversity\"].astype(float)\n",
    "df[\"UMIs_Mapped_Confidently_To_VJ_Gene\"] = df[\"UMIs_Mapped_Confidently_To_VJ_Gene\"].apply(lambda x: x.split('(')[-1]).str.replace(')','').str.replace(\"%\",'').astype(float)\n",
    "df[\"UMIs_Mapped_To_TRA\"] = df[\"UMIs_Mapped_To_TRA\"].apply(lambda x: x.split('(')[-1]).str.replace(')','').str.replace(\"%\",'').astype(float)\n",
    "df[\"UMIs_Mapped_To_TRB\"] = df[\"UMIs_Mapped_To_TRB\"].apply(lambda x: x.split('(')[-1]).str.replace(')','').str.replace(\"%\",'').astype(float)\n",
    "df[\"species\"] = \"Human_TCR\"\n",
    "df[\"index\"] = df.index"
   ]
  },
  {
   "cell_type": "code",
   "execution_count": null,
   "id": "executed-memory",
   "metadata": {},
   "outputs": [],
   "source": [
    "df"
   ]
  },
  {
   "cell_type": "code",
   "execution_count": 223,
   "id": "urban-dryer",
   "metadata": {},
   "outputs": [
    {
     "data": {
      "application/vnd.plotly.v1+json": {
       "config": {
        "plotlyServerURL": "https://plot.ly"
       },
       "data": [
        {
         "hovertemplate": "Raw_Reads=%{x}<br>UMI_Counts=%{y}<extra></extra>",
         "legendgroup": "",
         "marker": {
          "color": "#636efa",
          "size": 10,
          "symbol": "circle"
         },
         "mode": "markers",
         "name": "",
         "orientation": "v",
         "showlegend": false,
         "type": "scatter",
         "x": [
          1518422,
          2066108,
          1531658,
          922702,
          1778524,
          835480,
          1113815,
          759202,
          1311806,
          1253578,
          1481149,
          1081731,
          1319481,
          1148231,
          1051898,
          1146307,
          1519492,
          1329306,
          1324901,
          1332350,
          1516394,
          1385017,
          1172011,
          1068389,
          1489896,
          1134178,
          1354989,
          1097525,
          1164652,
          1349307,
          1051234,
          1014891,
          1341804,
          1210261,
          1037753,
          1266692,
          1395817,
          1292980,
          1127898,
          1413252,
          1070649,
          1061070,
          789317,
          978652,
          1259873,
          830649,
          1308673,
          1209601,
          1161877,
          1167481,
          1272868,
          961872,
          1582861,
          1287271,
          1639023,
          978520
         ],
         "xaxis": "x",
         "y": [
          16523,
          20169,
          15131,
          9769,
          17534,
          8445,
          11686,
          12303,
          19279,
          19392,
          22852,
          17241,
          19723,
          17010,
          16852,
          25532,
          31439,
          27207,
          28273,
          27414,
          29806,
          28315,
          24863,
          31411,
          30228,
          24736,
          29306,
          23405,
          24928,
          28754,
          23003,
          32306,
          37887,
          34317,
          29502,
          35776,
          38857,
          36093,
          32169,
          59734,
          43477,
          43844,
          32760,
          40178,
          50509,
          33589,
          53983,
          73842,
          48073,
          48928,
          50965,
          38500,
          63354,
          50433,
          64536,
          57342
         ],
         "yaxis": "y"
        }
       ],
       "layout": {
        "font": {
         "color": "Black",
         "size": 18
        },
        "height": 1024,
        "legend": {
         "tracegroupgap": 0
        },
        "margin": {
         "t": 60
        },
        "template": {
         "data": {
          "bar": [
           {
            "error_x": {
             "color": "#2a3f5f"
            },
            "error_y": {
             "color": "#2a3f5f"
            },
            "marker": {
             "line": {
              "color": "white",
              "width": 0.5
             },
             "pattern": {
              "fillmode": "overlay",
              "size": 10,
              "solidity": 0.2
             }
            },
            "type": "bar"
           }
          ],
          "barpolar": [
           {
            "marker": {
             "line": {
              "color": "white",
              "width": 0.5
             },
             "pattern": {
              "fillmode": "overlay",
              "size": 10,
              "solidity": 0.2
             }
            },
            "type": "barpolar"
           }
          ],
          "carpet": [
           {
            "aaxis": {
             "endlinecolor": "#2a3f5f",
             "gridcolor": "#C8D4E3",
             "linecolor": "#C8D4E3",
             "minorgridcolor": "#C8D4E3",
             "startlinecolor": "#2a3f5f"
            },
            "baxis": {
             "endlinecolor": "#2a3f5f",
             "gridcolor": "#C8D4E3",
             "linecolor": "#C8D4E3",
             "minorgridcolor": "#C8D4E3",
             "startlinecolor": "#2a3f5f"
            },
            "type": "carpet"
           }
          ],
          "choropleth": [
           {
            "colorbar": {
             "outlinewidth": 0,
             "ticks": ""
            },
            "type": "choropleth"
           }
          ],
          "contour": [
           {
            "colorbar": {
             "outlinewidth": 0,
             "ticks": ""
            },
            "colorscale": [
             [
              0,
              "#0d0887"
             ],
             [
              0.1111111111111111,
              "#46039f"
             ],
             [
              0.2222222222222222,
              "#7201a8"
             ],
             [
              0.3333333333333333,
              "#9c179e"
             ],
             [
              0.4444444444444444,
              "#bd3786"
             ],
             [
              0.5555555555555556,
              "#d8576b"
             ],
             [
              0.6666666666666666,
              "#ed7953"
             ],
             [
              0.7777777777777778,
              "#fb9f3a"
             ],
             [
              0.8888888888888888,
              "#fdca26"
             ],
             [
              1,
              "#f0f921"
             ]
            ],
            "type": "contour"
           }
          ],
          "contourcarpet": [
           {
            "colorbar": {
             "outlinewidth": 0,
             "ticks": ""
            },
            "type": "contourcarpet"
           }
          ],
          "heatmap": [
           {
            "colorbar": {
             "outlinewidth": 0,
             "ticks": ""
            },
            "colorscale": [
             [
              0,
              "#0d0887"
             ],
             [
              0.1111111111111111,
              "#46039f"
             ],
             [
              0.2222222222222222,
              "#7201a8"
             ],
             [
              0.3333333333333333,
              "#9c179e"
             ],
             [
              0.4444444444444444,
              "#bd3786"
             ],
             [
              0.5555555555555556,
              "#d8576b"
             ],
             [
              0.6666666666666666,
              "#ed7953"
             ],
             [
              0.7777777777777778,
              "#fb9f3a"
             ],
             [
              0.8888888888888888,
              "#fdca26"
             ],
             [
              1,
              "#f0f921"
             ]
            ],
            "type": "heatmap"
           }
          ],
          "heatmapgl": [
           {
            "colorbar": {
             "outlinewidth": 0,
             "ticks": ""
            },
            "colorscale": [
             [
              0,
              "#0d0887"
             ],
             [
              0.1111111111111111,
              "#46039f"
             ],
             [
              0.2222222222222222,
              "#7201a8"
             ],
             [
              0.3333333333333333,
              "#9c179e"
             ],
             [
              0.4444444444444444,
              "#bd3786"
             ],
             [
              0.5555555555555556,
              "#d8576b"
             ],
             [
              0.6666666666666666,
              "#ed7953"
             ],
             [
              0.7777777777777778,
              "#fb9f3a"
             ],
             [
              0.8888888888888888,
              "#fdca26"
             ],
             [
              1,
              "#f0f921"
             ]
            ],
            "type": "heatmapgl"
           }
          ],
          "histogram": [
           {
            "marker": {
             "pattern": {
              "fillmode": "overlay",
              "size": 10,
              "solidity": 0.2
             }
            },
            "type": "histogram"
           }
          ],
          "histogram2d": [
           {
            "colorbar": {
             "outlinewidth": 0,
             "ticks": ""
            },
            "colorscale": [
             [
              0,
              "#0d0887"
             ],
             [
              0.1111111111111111,
              "#46039f"
             ],
             [
              0.2222222222222222,
              "#7201a8"
             ],
             [
              0.3333333333333333,
              "#9c179e"
             ],
             [
              0.4444444444444444,
              "#bd3786"
             ],
             [
              0.5555555555555556,
              "#d8576b"
             ],
             [
              0.6666666666666666,
              "#ed7953"
             ],
             [
              0.7777777777777778,
              "#fb9f3a"
             ],
             [
              0.8888888888888888,
              "#fdca26"
             ],
             [
              1,
              "#f0f921"
             ]
            ],
            "type": "histogram2d"
           }
          ],
          "histogram2dcontour": [
           {
            "colorbar": {
             "outlinewidth": 0,
             "ticks": ""
            },
            "colorscale": [
             [
              0,
              "#0d0887"
             ],
             [
              0.1111111111111111,
              "#46039f"
             ],
             [
              0.2222222222222222,
              "#7201a8"
             ],
             [
              0.3333333333333333,
              "#9c179e"
             ],
             [
              0.4444444444444444,
              "#bd3786"
             ],
             [
              0.5555555555555556,
              "#d8576b"
             ],
             [
              0.6666666666666666,
              "#ed7953"
             ],
             [
              0.7777777777777778,
              "#fb9f3a"
             ],
             [
              0.8888888888888888,
              "#fdca26"
             ],
             [
              1,
              "#f0f921"
             ]
            ],
            "type": "histogram2dcontour"
           }
          ],
          "mesh3d": [
           {
            "colorbar": {
             "outlinewidth": 0,
             "ticks": ""
            },
            "type": "mesh3d"
           }
          ],
          "parcoords": [
           {
            "line": {
             "colorbar": {
              "outlinewidth": 0,
              "ticks": ""
             }
            },
            "type": "parcoords"
           }
          ],
          "pie": [
           {
            "automargin": true,
            "type": "pie"
           }
          ],
          "scatter": [
           {
            "fillpattern": {
             "fillmode": "overlay",
             "size": 10,
             "solidity": 0.2
            },
            "type": "scatter"
           }
          ],
          "scatter3d": [
           {
            "line": {
             "colorbar": {
              "outlinewidth": 0,
              "ticks": ""
             }
            },
            "marker": {
             "colorbar": {
              "outlinewidth": 0,
              "ticks": ""
             }
            },
            "type": "scatter3d"
           }
          ],
          "scattercarpet": [
           {
            "marker": {
             "colorbar": {
              "outlinewidth": 0,
              "ticks": ""
             }
            },
            "type": "scattercarpet"
           }
          ],
          "scattergeo": [
           {
            "marker": {
             "colorbar": {
              "outlinewidth": 0,
              "ticks": ""
             }
            },
            "type": "scattergeo"
           }
          ],
          "scattergl": [
           {
            "marker": {
             "colorbar": {
              "outlinewidth": 0,
              "ticks": ""
             }
            },
            "type": "scattergl"
           }
          ],
          "scattermapbox": [
           {
            "marker": {
             "colorbar": {
              "outlinewidth": 0,
              "ticks": ""
             }
            },
            "type": "scattermapbox"
           }
          ],
          "scatterpolar": [
           {
            "marker": {
             "colorbar": {
              "outlinewidth": 0,
              "ticks": ""
             }
            },
            "type": "scatterpolar"
           }
          ],
          "scatterpolargl": [
           {
            "marker": {
             "colorbar": {
              "outlinewidth": 0,
              "ticks": ""
             }
            },
            "type": "scatterpolargl"
           }
          ],
          "scatterternary": [
           {
            "marker": {
             "colorbar": {
              "outlinewidth": 0,
              "ticks": ""
             }
            },
            "type": "scatterternary"
           }
          ],
          "surface": [
           {
            "colorbar": {
             "outlinewidth": 0,
             "ticks": ""
            },
            "colorscale": [
             [
              0,
              "#0d0887"
             ],
             [
              0.1111111111111111,
              "#46039f"
             ],
             [
              0.2222222222222222,
              "#7201a8"
             ],
             [
              0.3333333333333333,
              "#9c179e"
             ],
             [
              0.4444444444444444,
              "#bd3786"
             ],
             [
              0.5555555555555556,
              "#d8576b"
             ],
             [
              0.6666666666666666,
              "#ed7953"
             ],
             [
              0.7777777777777778,
              "#fb9f3a"
             ],
             [
              0.8888888888888888,
              "#fdca26"
             ],
             [
              1,
              "#f0f921"
             ]
            ],
            "type": "surface"
           }
          ],
          "table": [
           {
            "cells": {
             "fill": {
              "color": "#EBF0F8"
             },
             "line": {
              "color": "white"
             }
            },
            "header": {
             "fill": {
              "color": "#C8D4E3"
             },
             "line": {
              "color": "white"
             }
            },
            "type": "table"
           }
          ]
         },
         "layout": {
          "annotationdefaults": {
           "arrowcolor": "#2a3f5f",
           "arrowhead": 0,
           "arrowwidth": 1
          },
          "autotypenumbers": "strict",
          "coloraxis": {
           "colorbar": {
            "outlinewidth": 0,
            "ticks": ""
           }
          },
          "colorscale": {
           "diverging": [
            [
             0,
             "#8e0152"
            ],
            [
             0.1,
             "#c51b7d"
            ],
            [
             0.2,
             "#de77ae"
            ],
            [
             0.3,
             "#f1b6da"
            ],
            [
             0.4,
             "#fde0ef"
            ],
            [
             0.5,
             "#f7f7f7"
            ],
            [
             0.6,
             "#e6f5d0"
            ],
            [
             0.7,
             "#b8e186"
            ],
            [
             0.8,
             "#7fbc41"
            ],
            [
             0.9,
             "#4d9221"
            ],
            [
             1,
             "#276419"
            ]
           ],
           "sequential": [
            [
             0,
             "#0d0887"
            ],
            [
             0.1111111111111111,
             "#46039f"
            ],
            [
             0.2222222222222222,
             "#7201a8"
            ],
            [
             0.3333333333333333,
             "#9c179e"
            ],
            [
             0.4444444444444444,
             "#bd3786"
            ],
            [
             0.5555555555555556,
             "#d8576b"
            ],
            [
             0.6666666666666666,
             "#ed7953"
            ],
            [
             0.7777777777777778,
             "#fb9f3a"
            ],
            [
             0.8888888888888888,
             "#fdca26"
            ],
            [
             1,
             "#f0f921"
            ]
           ],
           "sequentialminus": [
            [
             0,
             "#0d0887"
            ],
            [
             0.1111111111111111,
             "#46039f"
            ],
            [
             0.2222222222222222,
             "#7201a8"
            ],
            [
             0.3333333333333333,
             "#9c179e"
            ],
            [
             0.4444444444444444,
             "#bd3786"
            ],
            [
             0.5555555555555556,
             "#d8576b"
            ],
            [
             0.6666666666666666,
             "#ed7953"
            ],
            [
             0.7777777777777778,
             "#fb9f3a"
            ],
            [
             0.8888888888888888,
             "#fdca26"
            ],
            [
             1,
             "#f0f921"
            ]
           ]
          },
          "colorway": [
           "#636efa",
           "#EF553B",
           "#00cc96",
           "#ab63fa",
           "#FFA15A",
           "#19d3f3",
           "#FF6692",
           "#B6E880",
           "#FF97FF",
           "#FECB52"
          ],
          "font": {
           "color": "#2a3f5f"
          },
          "geo": {
           "bgcolor": "white",
           "lakecolor": "white",
           "landcolor": "white",
           "showlakes": true,
           "showland": true,
           "subunitcolor": "#C8D4E3"
          },
          "hoverlabel": {
           "align": "left"
          },
          "hovermode": "closest",
          "mapbox": {
           "style": "light"
          },
          "paper_bgcolor": "white",
          "plot_bgcolor": "white",
          "polar": {
           "angularaxis": {
            "gridcolor": "#EBF0F8",
            "linecolor": "#EBF0F8",
            "ticks": ""
           },
           "bgcolor": "white",
           "radialaxis": {
            "gridcolor": "#EBF0F8",
            "linecolor": "#EBF0F8",
            "ticks": ""
           }
          },
          "scene": {
           "xaxis": {
            "backgroundcolor": "white",
            "gridcolor": "#DFE8F3",
            "gridwidth": 2,
            "linecolor": "#EBF0F8",
            "showbackground": true,
            "ticks": "",
            "zerolinecolor": "#EBF0F8"
           },
           "yaxis": {
            "backgroundcolor": "white",
            "gridcolor": "#DFE8F3",
            "gridwidth": 2,
            "linecolor": "#EBF0F8",
            "showbackground": true,
            "ticks": "",
            "zerolinecolor": "#EBF0F8"
           },
           "zaxis": {
            "backgroundcolor": "white",
            "gridcolor": "#DFE8F3",
            "gridwidth": 2,
            "linecolor": "#EBF0F8",
            "showbackground": true,
            "ticks": "",
            "zerolinecolor": "#EBF0F8"
           }
          },
          "shapedefaults": {
           "line": {
            "color": "#2a3f5f"
           }
          },
          "ternary": {
           "aaxis": {
            "gridcolor": "#DFE8F3",
            "linecolor": "#A2B1C6",
            "ticks": ""
           },
           "baxis": {
            "gridcolor": "#DFE8F3",
            "linecolor": "#A2B1C6",
            "ticks": ""
           },
           "bgcolor": "white",
           "caxis": {
            "gridcolor": "#DFE8F3",
            "linecolor": "#A2B1C6",
            "ticks": ""
           }
          },
          "title": {
           "x": 0.05
          },
          "xaxis": {
           "automargin": true,
           "gridcolor": "#EBF0F8",
           "linecolor": "#EBF0F8",
           "ticks": "",
           "title": {
            "standoff": 15
           },
           "zerolinecolor": "#EBF0F8",
           "zerolinewidth": 2
          },
          "yaxis": {
           "automargin": true,
           "gridcolor": "#EBF0F8",
           "linecolor": "#EBF0F8",
           "ticks": "",
           "title": {
            "standoff": 15
           },
           "zerolinecolor": "#EBF0F8",
           "zerolinewidth": 2
          }
         }
        },
        "title": {
         "text": "Human-TCR-96well (Correlation=0.104)",
         "x": 0.5,
         "xanchor": "center",
         "y": 0.98,
         "yanchor": "top"
        },
        "width": 1680,
        "xaxis": {
         "anchor": "y",
         "autorange": true,
         "domain": [
          0,
          1
         ],
         "range": [
          679900.6215418665,
          2145409.3784581334
         ],
         "title": {
          "text": "Raw_Reads"
         },
         "type": "linear"
        },
        "yaxis": {
         "anchor": "x",
         "autorange": true,
         "domain": [
          0,
          1
         ],
         "range": [
          4231.899948920955,
          78055.10005107905
         ],
         "title": {
          "text": "UMI_Counts"
         },
         "type": "linear"
        }
       }
      },
      "image/png": "[encoded data removed]",
      "text/html": [
       "<div>                            <div id=\"cf793332-fdee-4465-9f61-830e4250100d\" class=\"plotly-graph-div\" style=\"height:1024px; width:1680px;\"></div>            <script type=\"text/javascript\">                require([\"plotly\"], function(Plotly) {                    window.PLOTLYENV=window.PLOTLYENV || {};                                    if (document.getElementById(\"cf793332-fdee-4465-9f61-830e4250100d\")) {                    Plotly.newPlot(                        \"cf793332-fdee-4465-9f61-830e4250100d\",                        [{\"hovertemplate\":\"Raw_Reads=%{x}<br>UMI_Counts=%{y}<extra></extra>\",\"legendgroup\":\"\",\"marker\":{\"color\":\"#636efa\",\"symbol\":\"circle\",\"size\":10},\"mode\":\"markers\",\"name\":\"\",\"orientation\":\"v\",\"showlegend\":false,\"x\":[1518422,2066108,1531658,922702,1778524,835480,1113815,759202,1311806,1253578,1481149,1081731,1319481,1148231,1051898,1146307,1519492,1329306,1324901,1332350,1516394,1385017,1172011,1068389,1489896,1134178,1354989,1097525,1164652,1349307,1051234,1014891,1341804,1210261,1037753,1266692,1395817,1292980,1127898,1413252,1070649,1061070,789317,978652,1259873,830649,1308673,1209601,1161877,1167481,1272868,961872,1582861,1287271,1639023,978520],\"xaxis\":\"x\",\"y\":[16523,20169,15131,9769,17534,8445,11686,12303,19279,19392,22852,17241,19723,17010,16852,25532,31439,27207,28273,27414,29806,28315,24863,31411,30228,24736,29306,23405,24928,28754,23003,32306,37887,34317,29502,35776,38857,36093,32169,59734,43477,43844,32760,40178,50509,33589,53983,73842,48073,48928,50965,38500,63354,50433,64536,57342],\"yaxis\":\"y\",\"type\":\"scatter\"}],                        {\"template\":{\"data\":{\"histogram2dcontour\":[{\"type\":\"histogram2dcontour\",\"colorbar\":{\"outlinewidth\":0,\"ticks\":\"\"},\"colorscale\":[[0.0,\"#0d0887\"],[0.1111111111111111,\"#46039f\"],[0.2222222222222222,\"#7201a8\"],[0.3333333333333333,\"#9c179e\"],[0.4444444444444444,\"#bd3786\"],[0.5555555555555556,\"#d8576b\"],[0.6666666666666666,\"#ed7953\"],[0.7777777777777778,\"#fb9f3a\"],[0.8888888888888888,\"#fdca26\"],[1.0,\"#f0f921\"]]}],\"choropleth\":[{\"type\":\"choropleth\",\"colorbar\":{\"outlinewidth\":0,\"ticks\":\"\"}}],\"histogram2d\":[{\"type\":\"histogram2d\",\"colorbar\":{\"outlinewidth\":0,\"ticks\":\"\"},\"colorscale\":[[0.0,\"#0d0887\"],[0.1111111111111111,\"#46039f\"],[0.2222222222222222,\"#7201a8\"],[0.3333333333333333,\"#9c179e\"],[0.4444444444444444,\"#bd3786\"],[0.5555555555555556,\"#d8576b\"],[0.6666666666666666,\"#ed7953\"],[0.7777777777777778,\"#fb9f3a\"],[0.8888888888888888,\"#fdca26\"],[1.0,\"#f0f921\"]]}],\"heatmap\":[{\"type\":\"heatmap\",\"colorbar\":{\"outlinewidth\":0,\"ticks\":\"\"},\"colorscale\":[[0.0,\"#0d0887\"],[0.1111111111111111,\"#46039f\"],[0.2222222222222222,\"#7201a8\"],[0.3333333333333333,\"#9c179e\"],[0.4444444444444444,\"#bd3786\"],[0.5555555555555556,\"#d8576b\"],[0.6666666666666666,\"#ed7953\"],[0.7777777777777778,\"#fb9f3a\"],[0.8888888888888888,\"#fdca26\"],[1.0,\"#f0f921\"]]}],\"heatmapgl\":[{\"type\":\"heatmapgl\",\"colorbar\":{\"outlinewidth\":0,\"ticks\":\"\"},\"colorscale\":[[0.0,\"#0d0887\"],[0.1111111111111111,\"#46039f\"],[0.2222222222222222,\"#7201a8\"],[0.3333333333333333,\"#9c179e\"],[0.4444444444444444,\"#bd3786\"],[0.5555555555555556,\"#d8576b\"],[0.6666666666666666,\"#ed7953\"],[0.7777777777777778,\"#fb9f3a\"],[0.8888888888888888,\"#fdca26\"],[1.0,\"#f0f921\"]]}],\"contourcarpet\":[{\"type\":\"contourcarpet\",\"colorbar\":{\"outlinewidth\":0,\"ticks\":\"\"}}],\"contour\":[{\"type\":\"contour\",\"colorbar\":{\"outlinewidth\":0,\"ticks\":\"\"},\"colorscale\":[[0.0,\"#0d0887\"],[0.1111111111111111,\"#46039f\"],[0.2222222222222222,\"#7201a8\"],[0.3333333333333333,\"#9c179e\"],[0.4444444444444444,\"#bd3786\"],[0.5555555555555556,\"#d8576b\"],[0.6666666666666666,\"#ed7953\"],[0.7777777777777778,\"#fb9f3a\"],[0.8888888888888888,\"#fdca26\"],[1.0,\"#f0f921\"]]}],\"surface\":[{\"type\":\"surface\",\"colorbar\":{\"outlinewidth\":0,\"ticks\":\"\"},\"colorscale\":[[0.0,\"#0d0887\"],[0.1111111111111111,\"#46039f\"],[0.2222222222222222,\"#7201a8\"],[0.3333333333333333,\"#9c179e\"],[0.4444444444444444,\"#bd3786\"],[0.5555555555555556,\"#d8576b\"],[0.6666666666666666,\"#ed7953\"],[0.7777777777777778,\"#fb9f3a\"],[0.8888888888888888,\"#fdca26\"],[1.0,\"#f0f921\"]]}],\"mesh3d\":[{\"type\":\"mesh3d\",\"colorbar\":{\"outlinewidth\":0,\"ticks\":\"\"}}],\"scatter\":[{\"fillpattern\":{\"fillmode\":\"overlay\",\"size\":10,\"solidity\":0.2},\"type\":\"scatter\"}],\"parcoords\":[{\"type\":\"parcoords\",\"line\":{\"colorbar\":{\"outlinewidth\":0,\"ticks\":\"\"}}}],\"scatterpolargl\":[{\"type\":\"scatterpolargl\",\"marker\":{\"colorbar\":{\"outlinewidth\":0,\"ticks\":\"\"}}}],\"bar\":[{\"error_x\":{\"color\":\"#2a3f5f\"},\"error_y\":{\"color\":\"#2a3f5f\"},\"marker\":{\"line\":{\"color\":\"white\",\"width\":0.5},\"pattern\":{\"fillmode\":\"overlay\",\"size\":10,\"solidity\":0.2}},\"type\":\"bar\"}],\"scattergeo\":[{\"type\":\"scattergeo\",\"marker\":{\"colorbar\":{\"outlinewidth\":0,\"ticks\":\"\"}}}],\"scatterpolar\":[{\"type\":\"scatterpolar\",\"marker\":{\"colorbar\":{\"outlinewidth\":0,\"ticks\":\"\"}}}],\"histogram\":[{\"marker\":{\"pattern\":{\"fillmode\":\"overlay\",\"size\":10,\"solidity\":0.2}},\"type\":\"histogram\"}],\"scattergl\":[{\"type\":\"scattergl\",\"marker\":{\"colorbar\":{\"outlinewidth\":0,\"ticks\":\"\"}}}],\"scatter3d\":[{\"type\":\"scatter3d\",\"line\":{\"colorbar\":{\"outlinewidth\":0,\"ticks\":\"\"}},\"marker\":{\"colorbar\":{\"outlinewidth\":0,\"ticks\":\"\"}}}],\"scattermapbox\":[{\"type\":\"scattermapbox\",\"marker\":{\"colorbar\":{\"outlinewidth\":0,\"ticks\":\"\"}}}],\"scatterternary\":[{\"type\":\"scatterternary\",\"marker\":{\"colorbar\":{\"outlinewidth\":0,\"ticks\":\"\"}}}],\"scattercarpet\":[{\"type\":\"scattercarpet\",\"marker\":{\"colorbar\":{\"outlinewidth\":0,\"ticks\":\"\"}}}],\"carpet\":[{\"aaxis\":{\"endlinecolor\":\"#2a3f5f\",\"gridcolor\":\"#C8D4E3\",\"linecolor\":\"#C8D4E3\",\"minorgridcolor\":\"#C8D4E3\",\"startlinecolor\":\"#2a3f5f\"},\"baxis\":{\"endlinecolor\":\"#2a3f5f\",\"gridcolor\":\"#C8D4E3\",\"linecolor\":\"#C8D4E3\",\"minorgridcolor\":\"#C8D4E3\",\"startlinecolor\":\"#2a3f5f\"},\"type\":\"carpet\"}],\"table\":[{\"cells\":{\"fill\":{\"color\":\"#EBF0F8\"},\"line\":{\"color\":\"white\"}},\"header\":{\"fill\":{\"color\":\"#C8D4E3\"},\"line\":{\"color\":\"white\"}},\"type\":\"table\"}],\"barpolar\":[{\"marker\":{\"line\":{\"color\":\"white\",\"width\":0.5},\"pattern\":{\"fillmode\":\"overlay\",\"size\":10,\"solidity\":0.2}},\"type\":\"barpolar\"}],\"pie\":[{\"automargin\":true,\"type\":\"pie\"}]},\"layout\":{\"autotypenumbers\":\"strict\",\"colorway\":[\"#636efa\",\"#EF553B\",\"#00cc96\",\"#ab63fa\",\"#FFA15A\",\"#19d3f3\",\"#FF6692\",\"#B6E880\",\"#FF97FF\",\"#FECB52\"],\"font\":{\"color\":\"#2a3f5f\"},\"hovermode\":\"closest\",\"hoverlabel\":{\"align\":\"left\"},\"paper_bgcolor\":\"white\",\"plot_bgcolor\":\"white\",\"polar\":{\"bgcolor\":\"white\",\"angularaxis\":{\"gridcolor\":\"#EBF0F8\",\"linecolor\":\"#EBF0F8\",\"ticks\":\"\"},\"radialaxis\":{\"gridcolor\":\"#EBF0F8\",\"linecolor\":\"#EBF0F8\",\"ticks\":\"\"}},\"ternary\":{\"bgcolor\":\"white\",\"aaxis\":{\"gridcolor\":\"#DFE8F3\",\"linecolor\":\"#A2B1C6\",\"ticks\":\"\"},\"baxis\":{\"gridcolor\":\"#DFE8F3\",\"linecolor\":\"#A2B1C6\",\"ticks\":\"\"},\"caxis\":{\"gridcolor\":\"#DFE8F3\",\"linecolor\":\"#A2B1C6\",\"ticks\":\"\"}},\"coloraxis\":{\"colorbar\":{\"outlinewidth\":0,\"ticks\":\"\"}},\"colorscale\":{\"sequential\":[[0.0,\"#0d0887\"],[0.1111111111111111,\"#46039f\"],[0.2222222222222222,\"#7201a8\"],[0.3333333333333333,\"#9c179e\"],[0.4444444444444444,\"#bd3786\"],[0.5555555555555556,\"#d8576b\"],[0.6666666666666666,\"#ed7953\"],[0.7777777777777778,\"#fb9f3a\"],[0.8888888888888888,\"#fdca26\"],[1.0,\"#f0f921\"]],\"sequentialminus\":[[0.0,\"#0d0887\"],[0.1111111111111111,\"#46039f\"],[0.2222222222222222,\"#7201a8\"],[0.3333333333333333,\"#9c179e\"],[0.4444444444444444,\"#bd3786\"],[0.5555555555555556,\"#d8576b\"],[0.6666666666666666,\"#ed7953\"],[0.7777777777777778,\"#fb9f3a\"],[0.8888888888888888,\"#fdca26\"],[1.0,\"#f0f921\"]],\"diverging\":[[0,\"#8e0152\"],[0.1,\"#c51b7d\"],[0.2,\"#de77ae\"],[0.3,\"#f1b6da\"],[0.4,\"#fde0ef\"],[0.5,\"#f7f7f7\"],[0.6,\"#e6f5d0\"],[0.7,\"#b8e186\"],[0.8,\"#7fbc41\"],[0.9,\"#4d9221\"],[1,\"#276419\"]]},\"xaxis\":{\"gridcolor\":\"#EBF0F8\",\"linecolor\":\"#EBF0F8\",\"ticks\":\"\",\"title\":{\"standoff\":15},\"zerolinecolor\":\"#EBF0F8\",\"automargin\":true,\"zerolinewidth\":2},\"yaxis\":{\"gridcolor\":\"#EBF0F8\",\"linecolor\":\"#EBF0F8\",\"ticks\":\"\",\"title\":{\"standoff\":15},\"zerolinecolor\":\"#EBF0F8\",\"automargin\":true,\"zerolinewidth\":2},\"scene\":{\"xaxis\":{\"backgroundcolor\":\"white\",\"gridcolor\":\"#DFE8F3\",\"linecolor\":\"#EBF0F8\",\"showbackground\":true,\"ticks\":\"\",\"zerolinecolor\":\"#EBF0F8\",\"gridwidth\":2},\"yaxis\":{\"backgroundcolor\":\"white\",\"gridcolor\":\"#DFE8F3\",\"linecolor\":\"#EBF0F8\",\"showbackground\":true,\"ticks\":\"\",\"zerolinecolor\":\"#EBF0F8\",\"gridwidth\":2},\"zaxis\":{\"backgroundcolor\":\"white\",\"gridcolor\":\"#DFE8F3\",\"linecolor\":\"#EBF0F8\",\"showbackground\":true,\"ticks\":\"\",\"zerolinecolor\":\"#EBF0F8\",\"gridwidth\":2}},\"shapedefaults\":{\"line\":{\"color\":\"#2a3f5f\"}},\"annotationdefaults\":{\"arrowcolor\":\"#2a3f5f\",\"arrowhead\":0,\"arrowwidth\":1},\"geo\":{\"bgcolor\":\"white\",\"landcolor\":\"white\",\"subunitcolor\":\"#C8D4E3\",\"showland\":true,\"showlakes\":true,\"lakecolor\":\"white\"},\"title\":{\"x\":0.05},\"mapbox\":{\"style\":\"light\"}}},\"xaxis\":{\"anchor\":\"y\",\"domain\":[0.0,1.0],\"title\":{\"text\":\"Raw_Reads\"}},\"yaxis\":{\"anchor\":\"x\",\"domain\":[0.0,1.0],\"title\":{\"text\":\"UMI_Counts\"}},\"legend\":{\"tracegroupgap\":0},\"margin\":{\"t\":60},\"height\":1024,\"width\":1680,\"title\":{\"text\":\"Human-TCR-96well (Correlation=0.104)\",\"y\":0.98,\"x\":0.5,\"xanchor\":\"center\",\"yanchor\":\"top\"},\"font\":{\"size\":18,\"color\":\"Black\"}},                        {\"responsive\": true}                    ).then(function(){\n",
       "                            \n",
       "var gd = document.getElementById('cf793332-fdee-4465-9f61-830e4250100d');\n",
       "var x = new MutationObserver(function (mutations, observer) {{\n",
       "        var display = window.getComputedStyle(gd).display;\n",
       "        if (!display || display === 'none') {{\n",
       "            console.log([gd, 'removed!']);\n",
       "            Plotly.purge(gd);\n",
       "            observer.disconnect();\n",
       "        }}\n",
       "}});\n",
       "\n",
       "// Listen for the removal of the full notebook cells\n",
       "var notebookContainer = gd.closest('#notebook-container');\n",
       "if (notebookContainer) {{\n",
       "    x.observe(notebookContainer, {childList: true});\n",
       "}}\n",
       "\n",
       "// Listen for the clearing of the current output cell\n",
       "var outputEl = gd.closest('.output');\n",
       "if (outputEl) {{\n",
       "    x.observe(outputEl, {childList: true});\n",
       "}}\n",
       "\n",
       "                        })                };                });            </script>        </div>"
      ]
     },
     "metadata": {},
     "output_type": "display_data"
    }
   ],
   "source": [
    "fig = px.scatter(\n",
    "    df, # scatter绘制散点图\n",
    "    x='Raw_Reads',    #  x轴\n",
    "    y='UMI_Counts',  # y轴\n",
    "    labels = calc_corr(df[\"Raw_Reads\"], df[\"UMI_Counts\"]),\n",
    "    width=1680, height=1024,\n",
    ")\n",
    "fig.update_traces(marker_size=10)\n",
    "fig.update_layout(title={\"text\":f'Human-TCR-96well (Correlation={calc_corr(df[\"Raw_Reads\"], df[\"UMI_Counts\"])})',\n",
    "                         'y':0.98, 'x':0.5, 'xanchor': 'center', 'yanchor': 'top'},\n",
    "                  xaxis_title = \"Raw_Reads\", yaxis_title = \"UMI_Counts\", font=dict(size=18,color=\"Black\"))\n",
    "\n",
    "fig.write_image(f\"/SGRNJ06/randd/USER/cjj/celedev/vdj_bulk/20230704plot/human_tcr/scatter.png\", scale=4)\n",
    "#fig.show()"
   ]
  },
  {
   "cell_type": "code",
   "execution_count": null,
   "id": "precise-intelligence",
   "metadata": {},
   "outputs": [],
   "source": []
  },
  {
   "cell_type": "code",
   "execution_count": null,
   "id": "stunning-difficulty",
   "metadata": {},
   "outputs": [],
   "source": [
    "df"
   ]
  },
  {
   "cell_type": "code",
   "execution_count": null,
   "id": "earlier-sheriff",
   "metadata": {},
   "outputs": [],
   "source": [
    "fig = go.Figure()\n",
    "fig.add_trace(go.Box(y=list(df.UMIs_Mapped_To_TRA),name=\"UMIs_Mapped_To_TRA\"))\n",
    "fig.add_trace(go.Box(y=list(df.UMIs_Mapped_To_TRB),name=\"UMIs_Mapped_To_TRB\"))\n",
    "fig.add_trace(go.Box(y=list(df.UMIs_Mapped_Confidently_To_VJ_Gene),name=\"UMIs_Mapped_Confidently_To_VJ_Gene\"))\n",
    "fig.update_layout(title={\"text\":f'Human-TCR-96well',\n",
    "                         'y':0.98, 'x':0.40, 'xanchor': 'center', 'yanchor': 'top'},\n",
    "                          yaxis_title = \"Mapping Percent(%)\", font=dict(size=18,color=\"Black\"))\n",
    "\n",
    "fig.write_image(f\"/SGRNJ06/randd/USER/cjj/celedev/vdj_bulk/20230704plot/human_tcr/boxplot.png\", scale=4, width=1680, height=1024)\n",
    "#fig.show()"
   ]
  },
  {
   "cell_type": "code",
   "execution_count": null,
   "id": "colonial-blair",
   "metadata": {},
   "outputs": [],
   "source": []
  },
  {
   "cell_type": "code",
   "execution_count": null,
   "id": "instructional-junior",
   "metadata": {},
   "outputs": [],
   "source": [
    "fig = px.scatter(\n",
    "    df, # scatter绘制散点图\n",
    "    x='Raw_Reads',    #  x轴\n",
    "    y='Clonotype_Diversity',  # y轴\n",
    "    color = 'Clonotype_Diversity',\n",
    "    labels = calc_corr(df[\"Raw_Reads\"], df[\"Clonotype_Diversity\"]),\n",
    "    width=1680, height=1024\n",
    ")\n",
    "fig.update_traces(marker_size=10)\n",
    "fig.update_layout(title={\"text\":f'Human-TCR-96well Diversity (Correlation={calc_corr(df[\"Raw_Reads\"], df[\"Clonotype_Diversity\"])})',\n",
    "                         'y':0.98, 'x':0.5, 'xanchor': 'center', 'yanchor': 'top'},\n",
    "                  xaxis_title = \"Raw_Reads\", yaxis_title = \"Clonotype_Diversity\", font=dict(size=18,color=\"Black\"))\n",
    "\n",
    "fig.write_image(f\"/SGRNJ06/randd/USER/cjj/celedev/vdj_bulk/20230704plot/human_tcr/diversity_read_scatter.png\", scale=4)\n",
    "#fig.show()"
   ]
  },
  {
   "cell_type": "code",
   "execution_count": null,
   "id": "consolidated-woman",
   "metadata": {},
   "outputs": [],
   "source": [
    "fig = px.scatter(\n",
    "    df, # scatter绘制散点图\n",
    "    x='UMI_Counts',    #  x轴\n",
    "    y='Clonotype_Diversity',  # y轴\n",
    "    color = 'Clonotype_Diversity',\n",
    "    labels = calc_corr(df[\"UMI_Counts\"], df[\"Clonotype_Diversity\"]),\n",
    "    width=1680, height=1024\n",
    ")\n",
    "fig.update_traces(marker_size=10)\n",
    "fig.update_layout(title={\"text\":f'Human-TCR-96well Diversity (Correlation={calc_corr(df[\"UMI_Counts\"], df[\"Clonotype_Diversity\"])})',\n",
    "                         'y':0.98, 'x':0.5, 'xanchor': 'center', 'yanchor': 'top'},\n",
    "                  xaxis_title = \"UMI_Counts\", yaxis_title = \"Clonotype_Diversity\", font=dict(size=18,color=\"Black\"))\n",
    "\n",
    "fig.write_image(f\"/SGRNJ06/randd/USER/cjj/celedev/vdj_bulk/20230704plot/human_tcr/diversity_umi_scatter.png\", scale=4)\n",
    "#fig.show()"
   ]
  },
  {
   "cell_type": "code",
   "execution_count": null,
   "id": "smart-latex",
   "metadata": {},
   "outputs": [],
   "source": []
  },
  {
   "cell_type": "code",
   "execution_count": null,
   "id": "fundamental-turkey",
   "metadata": {},
   "outputs": [],
   "source": []
  },
  {
   "cell_type": "code",
   "execution_count": null,
   "id": "boolean-stadium",
   "metadata": {},
   "outputs": [],
   "source": []
  },
  {
   "cell_type": "code",
   "execution_count": null,
   "id": "explicit-bradley",
   "metadata": {},
   "outputs": [],
   "source": [
    "# human bcr\n",
    "df = pd.read_csv(\"/SGRNJ06/randd/USER/cjj/celedev/vdj_bulk/20230704plot/human_bcr/human_bcr.csv\")\n",
    "df"
   ]
  },
  {
   "cell_type": "code",
   "execution_count": null,
   "id": "downtown-helmet",
   "metadata": {},
   "outputs": [],
   "source": [
    "df[\"Raw_Reads\"] = df[\"Raw_Reads\"].str.replace(',','').astype(int)\n",
    "df[\"UMI_Counts\"] = df[\"UMI_Counts\"].str.replace(',','').astype(int)\n",
    "df[\"types\"] = df[\"types\"].astype(int)\n",
    "df[\"Clonotype_Diversity\"] = df[\"Clonotype_Diversity\"].astype(float)\n",
    "df[\"UMIs_Mapped_Confidently_To_VJ_Gene\"] = df[\"UMIs_Mapped_Confidently_To_VJ_Gene\"].apply(lambda x: x.split('(')[-1]).str.replace(')','').str.replace(\"%\",'').astype(float)\n",
    "df[\"UMIs_Mapped_To_IGH\"] = df[\"UMIs_Mapped_To_IGH\"].apply(lambda x: x.split('(')[-1]).str.replace(')','').str.replace(\"%\",'').astype(float)\n",
    "df[\"UMIs_Mapped_To_IGL\"] = df[\"UMIs_Mapped_To_IGL\"].apply(lambda x: x.split('(')[-1]).str.replace(')','').str.replace(\"%\",'').astype(float)\n",
    "df[\"UMIs_Mapped_To_IGK\"] = df[\"UMIs_Mapped_To_IGK\"].apply(lambda x: x.split('(')[-1]).str.replace(')','').str.replace(\"%\",'').astype(float)\n",
    "df[\"species\"] = \"Human_BCR\"\n",
    "df[\"index\"] = df.index"
   ]
  },
  {
   "cell_type": "code",
   "execution_count": null,
   "id": "amended-cable",
   "metadata": {},
   "outputs": [],
   "source": [
    "df"
   ]
  },
  {
   "cell_type": "code",
   "execution_count": null,
   "id": "acute-oxygen",
   "metadata": {},
   "outputs": [],
   "source": [
    "fig = px.scatter(\n",
    "    df, # scatter绘制散点图\n",
    "    x='Raw_Reads',    #  x轴\n",
    "    y='UMI_Counts',  # y轴\n",
    "    color = 'UMI_Counts',\n",
    "    labels = calc_corr(df[\"Raw_Reads\"], df[\"UMI_Counts\"]),\n",
    "    width=1680, height=1024\n",
    ")\n",
    "fig.update_traces(marker_size=10)\n",
    "fig.update_layout(title={\"text\": f'Human-BCR-96well (Correlation={calc_corr(df[\"Raw_Reads\"], df[\"UMI_Counts\"])})',\n",
    "                         'y':0.98, 'x':0.5, 'xanchor': 'center', 'yanchor': 'top'},\n",
    "                  xaxis_title = \"Raw_Reads\", yaxis_title = \"UMI_Counts\", font=dict(size=18,color=\"Black\"))\n",
    "\n",
    "\n",
    "fig.write_image(f\"/SGRNJ06/randd/USER/cjj/celedev/vdj_bulk/20230704plot/human_bcr/scatter.png\", scale=4)\n",
    "#fig.show()"
   ]
  },
  {
   "cell_type": "code",
   "execution_count": null,
   "id": "former-friday",
   "metadata": {},
   "outputs": [],
   "source": [
    "fig = go.Figure()\n",
    "fig.add_trace(go.Box(y=list(df.UMIs_Mapped_To_IGH),name=\"UMIs_Mapped_To_IGH\"))\n",
    "fig.add_trace(go.Box(y=list(df.UMIs_Mapped_To_IGL),name=\"UMIs_Mapped_To_IGL\"))\n",
    "fig.add_trace(go.Box(y=list(df.UMIs_Mapped_To_IGK),name=\"UMIs_Mapped_To_IGK\"))\n",
    "fig.add_trace(go.Box(y=list(df.UMIs_Mapped_Confidently_To_VJ_Gene),name=\"UMIs_Mapped_Confidently_To_VJ_Gene\"))\n",
    "fig.update_layout(title={\"text\":f'Human-BCR-96well',\n",
    "                         'y':0.98, 'x':0.40, 'xanchor': 'center', 'yanchor': 'top'},\n",
    "                          yaxis_title = \"Mapping Percent(%)\", font=dict(size=18,color=\"Black\"))\n",
    "\n",
    "fig.write_image(f\"/SGRNJ06/randd/USER/cjj/celedev/vdj_bulk/20230704plot/human_bcr/boxplot.png\", scale=4, width=1680, height=1024)\n",
    "#fig.show()"
   ]
  },
  {
   "cell_type": "code",
   "execution_count": null,
   "id": "cross-nightlife",
   "metadata": {},
   "outputs": [],
   "source": []
  },
  {
   "cell_type": "code",
   "execution_count": null,
   "id": "random-music",
   "metadata": {},
   "outputs": [],
   "source": [
    "fig = px.scatter(\n",
    "    df, # scatter绘制散点图\n",
    "    x='Raw_Reads',    #  x轴\n",
    "    y='Clonotype_Diversity',  # y轴\n",
    "    color = 'Clonotype_Diversity',\n",
    "    labels = calc_corr(df[\"Raw_Reads\"], df[\"Clonotype_Diversity\"]),\n",
    "    width=1680, height=1024\n",
    ")\n",
    "fig.update_traces(marker_size=10)\n",
    "fig.update_layout(title={\"text\":f'Human-BCR-96well Diversity (Correlation={calc_corr(df[\"Raw_Reads\"], df[\"Clonotype_Diversity\"])})',\n",
    "                         'y':0.98, 'x':0.5, 'xanchor': 'center', 'yanchor': 'top'},\n",
    "                  xaxis_title = \"Raw_Reads\", yaxis_title = \"Clonotype_Diversity\", font=dict(size=18,color=\"Black\"))\n",
    "\n",
    "fig.write_image(f\"/SGRNJ06/randd/USER/cjj/celedev/vdj_bulk/20230704plot/human_bcr/diversity_read_scatter.png\", scale=4)\n",
    "#fig.show()"
   ]
  },
  {
   "cell_type": "code",
   "execution_count": null,
   "id": "convenient-alert",
   "metadata": {},
   "outputs": [],
   "source": [
    "fig = px.scatter(\n",
    "    df, # scatter绘制散点图\n",
    "    x='UMI_Counts',    #  x轴\n",
    "    y='Clonotype_Diversity',  # y轴\n",
    "    color = 'Clonotype_Diversity',\n",
    "    labels = calc_corr(df[\"UMI_Counts\"], df[\"Clonotype_Diversity\"]),\n",
    "    width=1680, height=1024\n",
    ")\n",
    "fig.update_traces(marker_size=10)\n",
    "fig.update_layout(title={\"text\":f'Human-BCR-96well Diversity (Correlation={calc_corr(df[\"UMI_Counts\"], df[\"Clonotype_Diversity\"])})',\n",
    "                         'y':0.98, 'x':0.5, 'xanchor': 'center', 'yanchor': 'top'},\n",
    "                  xaxis_title = \"UMI_Counts\", yaxis_title = \"Clonotype_Diversity\", font=dict(size=18,color=\"Black\"))\n",
    "\n",
    "fig.write_image(f\"/SGRNJ06/randd/USER/cjj/celedev/vdj_bulk/20230704plot/human_bcr/diversity_umi_scatter.png\", scale=4)\n",
    "#fig.show()"
   ]
  },
  {
   "cell_type": "code",
   "execution_count": null,
   "id": "light-probability",
   "metadata": {},
   "outputs": [],
   "source": []
  },
  {
   "cell_type": "code",
   "execution_count": null,
   "id": "sexual-virginia",
   "metadata": {},
   "outputs": [],
   "source": []
  },
  {
   "cell_type": "code",
   "execution_count": null,
   "id": "charged-orbit",
   "metadata": {},
   "outputs": [],
   "source": [
    "# mouse_tcr\n",
    "df = pd.read_csv(\"/SGRNJ06/randd/USER/cjj/celedev/vdj_bulk/20230704plot/mouse_tcr/mouse_tcr.csv\")\n",
    "df"
   ]
  },
  {
   "cell_type": "code",
   "execution_count": null,
   "id": "technical-porter",
   "metadata": {},
   "outputs": [],
   "source": [
    "df[\"Raw_Reads\"] = df[\"Raw_Reads\"].str.replace(',','').astype(int)\n",
    "df[\"UMI_Counts\"] = df[\"UMI_Counts\"].str.replace(',','').astype(int)\n",
    "df[\"Clonotype_Diversity\"] = df[\"Clonotype_Diversity\"].astype(float)\n",
    "df[\"UMIs_Mapped_Confidently_To_VJ_Gene\"] = df[\"UMIs_Mapped_Confidently_To_VJ_Gene\"].apply(lambda x: x.split('(')[-1]).str.replace(')','').str.replace(\"%\",'').astype(float)\n",
    "df[\"UMIs_Mapped_To_TRA\"] = df[\"UMIs_Mapped_To_TRA\"].apply(lambda x: x.split('(')[-1]).str.replace(')','').str.replace(\"%\",'').astype(float)\n",
    "df[\"UMIs_Mapped_To_TRB\"] = df[\"UMIs_Mapped_To_TRB\"].apply(lambda x: x.split('(')[-1]).str.replace(')','').str.replace(\"%\",'').astype(float)\n",
    "df[\"species\"] = \"Mouse_TCR\"\n",
    "df[\"index\"] = df.index"
   ]
  },
  {
   "cell_type": "code",
   "execution_count": null,
   "id": "hazardous-cincinnati",
   "metadata": {},
   "outputs": [],
   "source": [
    "fig = px.scatter(\n",
    "    df, # scatter绘制散点图\n",
    "    x='Raw_Reads',    #  x轴\n",
    "    y='UMI_Counts',  # y轴\n",
    "    color = 'UMI_Counts',\n",
    "    labels = calc_corr(df[\"Raw_Reads\"], df[\"UMI_Counts\"]),\n",
    "    width=1680, height=1024\n",
    ")\n",
    "fig.update_traces(marker_size=10)\n",
    "fig.update_layout(title={\"text\":f'Mouse-TCR-96well (Correlation={calc_corr(df[\"Raw_Reads\"], df[\"UMI_Counts\"])})',\n",
    "                         'y':0.98, 'x':0.5, 'xanchor': 'center', 'yanchor': 'top'},\n",
    "                  xaxis_title = \"Raw_Reads\", yaxis_title = \"UMI_Counts\", font=dict(size=18,color=\"Black\"))\n",
    "\n",
    "fig.write_image(f\"/SGRNJ06/randd/USER/cjj/celedev/vdj_bulk/20230704plot/mouse_tcr/scatter.png\", scale=4)\n",
    "#fig.show()"
   ]
  },
  {
   "cell_type": "code",
   "execution_count": null,
   "id": "single-celebrity",
   "metadata": {},
   "outputs": [],
   "source": [
    "fig = go.Figure()\n",
    "fig.add_trace(go.Box(y=list(df.UMIs_Mapped_To_TRA),name=\"UMIs_Mapped_To_TRA\"))\n",
    "fig.add_trace(go.Box(y=list(df.UMIs_Mapped_To_TRB),name=\"UMIs_Mapped_To_TRB\"))\n",
    "fig.add_trace(go.Box(y=list(df.UMIs_Mapped_Confidently_To_VJ_Gene),name=\"UMIs_Mapped_Confidently_To_VJ_Gene\"))\n",
    "fig.update_layout(title={\"text\":f'Mouse-TCR-96well',\n",
    "                         'y':0.98, 'x':0.40, 'xanchor': 'center', 'yanchor': 'top'},\n",
    "                          yaxis_title = \"Mapping Percent(%)\", font=dict(size=18,color=\"Black\"))\n",
    "\n",
    "fig.write_image(f\"/SGRNJ06/randd/USER/cjj/celedev/vdj_bulk/20230704plot/mouse_tcr/boxplot.png\", scale=4, width=1680, height=1024)\n",
    "#fig.show()"
   ]
  },
  {
   "cell_type": "code",
   "execution_count": null,
   "id": "applied-argument",
   "metadata": {},
   "outputs": [],
   "source": [
    "fig = px.scatter(\n",
    "    df, # scatter绘制散点图\n",
    "    x='Raw_Reads',    #  x轴\n",
    "    y='Clonotype_Diversity',  # y轴\n",
    "    color = 'Clonotype_Diversity',\n",
    "    labels = calc_corr(df[\"Raw_Reads\"], df[\"Clonotype_Diversity\"]),\n",
    "    width=1680, height=1024\n",
    ")\n",
    "fig.update_traces(marker_size=10)\n",
    "fig.update_layout(title={\"text\":f'Mouse-TCR-96well Diversity (Correlation={calc_corr(df[\"Raw_Reads\"], df[\"Clonotype_Diversity\"])})',\n",
    "                         'y':0.98, 'x':0.5, 'xanchor': 'center', 'yanchor': 'top'},\n",
    "                  xaxis_title = \"Raw_Reads\", yaxis_title = \"Clonotype_Diversity\", font=dict(size=18,color=\"Black\"))\n",
    "\n",
    "fig.write_image(f\"/SGRNJ06/randd/USER/cjj/celedev/vdj_bulk/20230704plot/mouse_tcr/diversity_read_scatter.png\", scale=4)\n",
    "#fig.show()"
   ]
  },
  {
   "cell_type": "code",
   "execution_count": null,
   "id": "rental-cheese",
   "metadata": {},
   "outputs": [],
   "source": [
    "fig = px.scatter(\n",
    "    df, # scatter绘制散点图\n",
    "    x='UMI_Counts',    #  x轴\n",
    "    y='Clonotype_Diversity',  # y轴\n",
    "    color = 'Clonotype_Diversity',\n",
    "    labels = calc_corr(df[\"UMI_Counts\"], df[\"Clonotype_Diversity\"]),\n",
    "    width=1680, height=1024\n",
    ")\n",
    "fig.update_traces(marker_size=10)\n",
    "fig.update_layout(title={\"text\":f'Mouse-TCR-96well Diversity (Correlation={calc_corr(df[\"UMI_Counts\"], df[\"Clonotype_Diversity\"])})',\n",
    "                         'y':0.98, 'x':0.5, 'xanchor': 'center', 'yanchor': 'top'},\n",
    "                  xaxis_title = \"UMI_Counts\", yaxis_title = \"Clonotype_Diversity\", font=dict(size=18,color=\"Black\"))\n",
    "\n",
    "fig.write_image(f\"/SGRNJ06/randd/USER/cjj/celedev/vdj_bulk/20230704plot/mouse_tcr/diversity_umi_scatter.png\", scale=4)\n",
    "#fig.show()"
   ]
  },
  {
   "cell_type": "code",
   "execution_count": null,
   "id": "floral-round",
   "metadata": {},
   "outputs": [],
   "source": []
  },
  {
   "cell_type": "code",
   "execution_count": null,
   "id": "preceding-debate",
   "metadata": {},
   "outputs": [],
   "source": []
  },
  {
   "cell_type": "code",
   "execution_count": null,
   "id": "centered-folks",
   "metadata": {},
   "outputs": [],
   "source": [
    "# human bcr\n",
    "df = pd.read_csv(\"/SGRNJ06/randd/USER/cjj/celedev/vdj_bulk/20230704plot/mouse_bcr/mouse_bcr.csv\")\n",
    "df"
   ]
  },
  {
   "cell_type": "code",
   "execution_count": null,
   "id": "extended-bermuda",
   "metadata": {},
   "outputs": [],
   "source": [
    "df[\"Raw_Reads\"] = df[\"Raw_Reads\"].str.replace(',','').astype(int)\n",
    "df[\"UMI_Counts\"] = df[\"UMI_Counts\"].str.replace(',','').astype(int)\n",
    "df[\"Clonotype_Diversity\"] = df[\"Clonotype_Diversity\"].astype(float)\n",
    "df[\"UMIs_Mapped_Confidently_To_VJ_Gene\"] = df[\"UMIs_Mapped_Confidently_To_VJ_Gene\"].apply(lambda x: x.split('(')[-1]).str.replace(')','').str.replace(\"%\",'').astype(float)\n",
    "df[\"UMIs_Mapped_To_IGH\"] = df[\"UMIs_Mapped_To_IGH\"].apply(lambda x: x.split('(')[-1]).str.replace(')','').str.replace(\"%\",'').astype(float)\n",
    "df[\"UMIs_Mapped_To_IGL\"] = df[\"UMIs_Mapped_To_IGL\"].apply(lambda x: x.split('(')[-1]).str.replace(')','').str.replace(\"%\",'').astype(float)\n",
    "df[\"UMIs_Mapped_To_IGK\"] = df[\"UMIs_Mapped_To_IGK\"].apply(lambda x: x.split('(')[-1]).str.replace(')','').str.replace(\"%\",'').astype(float)\n",
    "df[\"species\"] = \"Human_BCR\"\n",
    "df[\"index\"] = df.index"
   ]
  },
  {
   "cell_type": "code",
   "execution_count": null,
   "id": "compound-plate",
   "metadata": {},
   "outputs": [],
   "source": [
    "fig = px.scatter(\n",
    "    df, # scatter绘制散点图\n",
    "    x='Raw_Reads',    #  x轴\n",
    "    y='UMI_Counts',  # y轴\n",
    "    color = 'UMI_Counts',\n",
    "    labels = calc_corr(df[\"Raw_Reads\"], df[\"UMI_Counts\"]),\n",
    "    width=1680, height=1024\n",
    ")\n",
    "fig.update_traces(marker_size=10)\n",
    "fig.update_layout(title={\"text\":f'Mouse-BCR-96well (Correlation={calc_corr(df[\"Raw_Reads\"], df[\"UMI_Counts\"])})',\n",
    "                         'y':0.98, 'x':0.5, 'xanchor': 'center', 'yanchor': 'top'},\n",
    "                  xaxis_title = \"Raw_Reads\", yaxis_title = \"UMI_Counts\", font=dict(size=18,color=\"Black\"))\n",
    "\n",
    "fig.write_image(f\"/SGRNJ06/randd/USER/cjj/celedev/vdj_bulk/20230704plot/mouse_bcr/scatter.png\", scale=4)\n",
    "#fig.show()"
   ]
  },
  {
   "cell_type": "code",
   "execution_count": null,
   "id": "allied-adrian",
   "metadata": {},
   "outputs": [],
   "source": []
  },
  {
   "cell_type": "code",
   "execution_count": null,
   "id": "vocational-scenario",
   "metadata": {},
   "outputs": [],
   "source": [
    "fig = go.Figure()\n",
    "fig.add_trace(go.Box(y=list(df.UMIs_Mapped_To_IGH),name=\"UMIs_Mapped_To_IGH\"))\n",
    "fig.add_trace(go.Box(y=list(df.UMIs_Mapped_To_IGL),name=\"UMIs_Mapped_To_IGL\"))\n",
    "fig.add_trace(go.Box(y=list(df.UMIs_Mapped_To_IGK),name=\"UMIs_Mapped_To_IGK\"))\n",
    "fig.add_trace(go.Box(y=list(df.UMIs_Mapped_Confidently_To_VJ_Gene),name=\"UMIs_Mapped_Confidently_To_VJ_Gene\"))\n",
    "fig.update_layout(title={\"text\":f'Mouse-BCR-96well',\n",
    "                         'y':0.98, 'x':0.40, 'xanchor': 'center', 'yanchor': 'top'},\n",
    "                          yaxis_title = \"Mapping Percent(%)\", font=dict(size=18,color=\"Black\"))\n",
    "\n",
    "fig.write_image(f\"/SGRNJ06/randd/USER/cjj/celedev/vdj_bulk/20230704plot/mouse_bcr/boxplot.png\", scale=4, width=1680, height=1024)\n",
    "#fig.show()"
   ]
  },
  {
   "cell_type": "code",
   "execution_count": null,
   "id": "lovely-fence",
   "metadata": {},
   "outputs": [],
   "source": [
    "fig = px.scatter(\n",
    "    df, # scatter绘制散点图\n",
    "    x='Raw_Reads',    #  x轴\n",
    "    y='Clonotype_Diversity',  # y轴\n",
    "    color = 'Clonotype_Diversity',\n",
    "    labels = calc_corr(df[\"Raw_Reads\"], df[\"Clonotype_Diversity\"]),\n",
    "    width=1680, height=1024\n",
    ")\n",
    "fig.update_traces(marker_size=10)\n",
    "fig.update_layout(title={\"text\":f'Mouse-BCR-96well Diversity (Correlation={calc_corr(df[\"Raw_Reads\"], df[\"Clonotype_Diversity\"])})',\n",
    "                         'y':0.98, 'x':0.5, 'xanchor': 'center', 'yanchor': 'top'},\n",
    "                  xaxis_title = \"Raw_Reads\", yaxis_title = \"Clonotype_Diversity\", font=dict(size=18,color=\"Black\"))\n",
    "\n",
    "fig.write_image(f\"/SGRNJ06/randd/USER/cjj/celedev/vdj_bulk/20230704plot/mouse_bcr/diversity_read_scatter.png\", scale=4)\n",
    "#fig.show()"
   ]
  },
  {
   "cell_type": "code",
   "execution_count": null,
   "id": "caroline-restaurant",
   "metadata": {},
   "outputs": [],
   "source": [
    "fig = px.scatter(\n",
    "    df, # scatter绘制散点图\n",
    "    x='UMI_Counts',    #  x轴\n",
    "    y='Clonotype_Diversity',  # y轴\n",
    "    color = 'Clonotype_Diversity',\n",
    "    labels = calc_corr(df[\"UMI_Counts\"], df[\"Clonotype_Diversity\"]),\n",
    "    width=1680, height=1024\n",
    ")\n",
    "fig.update_traces(marker_size=10)\n",
    "fig.update_layout(title={\"text\":f'Mouse-BCR-96well Diversity (Correlation={calc_corr(df[\"UMI_Counts\"], df[\"Clonotype_Diversity\"])})',\n",
    "                         'y':0.98, 'x':0.5, 'xanchor': 'center', 'yanchor': 'top'},\n",
    "                  xaxis_title = \"UMI_Counts\", yaxis_title = \"Clonotype_Diversity\", font=dict(size=18,color=\"Black\"))\n",
    "\n",
    "fig.write_image(f\"/SGRNJ06/randd/USER/cjj/celedev/vdj_bulk/20230704plot/mouse_bcr/diversity_umi_scatter.png\", scale=4)\n",
    "#fig.show()"
   ]
  },
  {
   "cell_type": "code",
   "execution_count": null,
   "id": "round-wisconsin",
   "metadata": {},
   "outputs": [],
   "source": []
  },
  {
   "cell_type": "code",
   "execution_count": null,
   "id": "contemporary-grave",
   "metadata": {},
   "outputs": [],
   "source": []
  },
  {
   "cell_type": "code",
   "execution_count": null,
   "id": "french-poison",
   "metadata": {},
   "outputs": [],
   "source": [
    "# 投入量测试 mouse-TCR"
   ]
  },
  {
   "cell_type": "code",
   "execution_count": 214,
   "id": "centered-financing",
   "metadata": {},
   "outputs": [],
   "source": [
    "# mouse_tcr\n",
    "df = pd.read_csv(\"/SGRNJ06/randd/USER/cjj/celedev/vdj_bulk/20230704plot/cell_mouse_tcr/mouse_tcr_cell.csv\")\n",
    "df = df.dropna(axis=0)"
   ]
  },
  {
   "cell_type": "code",
   "execution_count": 215,
   "id": "rubber-concrete",
   "metadata": {},
   "outputs": [
    {
     "name": "stderr",
     "output_type": "stream",
     "text": [
      "/SGRNJ/Public/Software/conda_env/chenjunjie/lib/python3.7/site-packages/ipykernel_launcher.py:4: FutureWarning:\n",
      "\n",
      "The default value of regex will change from True to False in a future version. In addition, single character regular expressions will*not* be treated as literal strings when regex=True.\n",
      "\n",
      "/SGRNJ/Public/Software/conda_env/chenjunjie/lib/python3.7/site-packages/ipykernel_launcher.py:5: FutureWarning:\n",
      "\n",
      "The default value of regex will change from True to False in a future version. In addition, single character regular expressions will*not* be treated as literal strings when regex=True.\n",
      "\n",
      "/SGRNJ/Public/Software/conda_env/chenjunjie/lib/python3.7/site-packages/ipykernel_launcher.py:6: FutureWarning:\n",
      "\n",
      "The default value of regex will change from True to False in a future version. In addition, single character regular expressions will*not* be treated as literal strings when regex=True.\n",
      "\n"
     ]
    }
   ],
   "source": [
    "df[\"Raw_Reads\"] = df[\"Raw_Reads\"].str.replace(',','').astype(int)\n",
    "df[\"UMI_Counts\"] = df[\"UMI_Counts\"].str.replace(',','').astype(int)\n",
    "df[\"Clonotype_Diversity\"] = df[\"Clonotype_Diversity\"].str.replace(',','').astype(float)\n",
    "df[\"UMIs_Mapped_Confidently_To_VJ_Gene\"] = df[\"UMIs_Mapped_Confidently_To_VJ_Gene\"].apply(lambda x: x.split('(')[-1]).str.replace(')','').str.replace(\"%\",'').astype(float)\n",
    "df[\"UMIs_Mapped_To_TRA\"] = df[\"UMIs_Mapped_To_TRA\"].apply(lambda x: x.split('(')[-1]).str.replace(')','').str.replace(\"%\",'').astype(float)\n",
    "df[\"UMIs_Mapped_To_TRB\"] = df[\"UMIs_Mapped_To_TRB\"].apply(lambda x: x.split('(')[-1]).str.replace(')','').str.replace(\"%\",'').astype(float)\n",
    "df[\"species\"] = \"Mouse_TCR\"\n",
    "df[\"index\"] = df.index"
   ]
  },
  {
   "cell_type": "code",
   "execution_count": null,
   "id": "built-veteran",
   "metadata": {},
   "outputs": [],
   "source": [
    "df"
   ]
  },
  {
   "cell_type": "code",
   "execution_count": 216,
   "id": "interracial-baking",
   "metadata": {},
   "outputs": [],
   "source": [
    "fig = px.scatter(\n",
    "    df, # scatter绘制散点图\n",
    "    x='Raw_Reads',    #  x轴\n",
    "    y='UMI_Counts',  # y轴\n",
    "    color = 'UMI_Counts',\n",
    "    labels = calc_corr(df[\"Raw_Reads\"], df[\"UMI_Counts\"]),\n",
    "    width=1680, height=1024\n",
    ")\n",
    "fig.update_traces(marker_size=10)\n",
    "fig.update_layout(title={\"text\":f'Mus-spleenT (Correlation={calc_corr(df[\"Raw_Reads\"], df[\"UMI_Counts\"])})',\n",
    "                         'y':0.98, 'x':0.5, 'xanchor': 'center', 'yanchor': 'top'},\n",
    "                  xaxis_title = \"Raw_Reads\", yaxis_title = \"UMI_Counts\", font=dict(size=18,color=\"Black\"))\n",
    "\n",
    "fig.write_image(f\"/SGRNJ06/randd/USER/cjj/celedev/vdj_bulk/20230704plot/cell_mouse_tcr/scatter.png\", scale=4)\n",
    "#fig.show()"
   ]
  },
  {
   "cell_type": "code",
   "execution_count": 217,
   "id": "rental-reform",
   "metadata": {},
   "outputs": [],
   "source": [
    "fig = go.Figure()\n",
    "fig.add_trace(go.Box(y=list(df.UMIs_Mapped_To_TRA),name=\"UMIs_Mapped_To_TRA\"))\n",
    "fig.add_trace(go.Box(y=list(df.UMIs_Mapped_To_TRB),name=\"UMIs_Mapped_To_TRB\"))\n",
    "fig.add_trace(go.Box(y=list(df.UMIs_Mapped_Confidently_To_VJ_Gene),name=\"UMIs_Mapped_Confidently_To_VJ_Gene\"))\n",
    "fig.update_layout(title={\"text\":f'Mus-spleenT',\n",
    "                         'y':0.98, 'x':0.40, 'xanchor': 'center', 'yanchor': 'top'},\n",
    "                          yaxis_title = \"Mapping Percent(%)\", font=dict(size=18,color=\"Black\"))\n",
    "\n",
    "fig.write_image(f\"/SGRNJ06/randd/USER/cjj/celedev/vdj_bulk/20230704plot/cell_mouse_tcr/boxplot.png\", scale=4, width=1680, height=1024)\n",
    "#fig.show()"
   ]
  },
  {
   "cell_type": "code",
   "execution_count": 218,
   "id": "opened-glasgow",
   "metadata": {},
   "outputs": [],
   "source": [
    "fig = px.scatter(\n",
    "    df, # scatter绘制散点图\n",
    "    x='Raw_Reads',    #  x轴\n",
    "    y='Clonotype_Diversity',  # y轴\n",
    "    color = 'Clonotype_Diversity',\n",
    "    labels = calc_corr(df[\"Raw_Reads\"], df[\"Clonotype_Diversity\"]),\n",
    "    width=1680, height=1024\n",
    ")\n",
    "fig.update_traces(marker_size=10)\n",
    "fig.update_layout(title={\"text\":f'Mus-spleenT Diversity (Correlation={calc_corr(df[\"Raw_Reads\"], df[\"Clonotype_Diversity\"])})',\n",
    "                         'y':0.98, 'x':0.5, 'xanchor': 'center', 'yanchor': 'top'},\n",
    "                  xaxis_title = \"Raw_Reads\", yaxis_title = \"Clonotype_Diversity\", font=dict(size=18,color=\"Black\"))\n",
    "\n",
    "fig.write_image(f\"/SGRNJ06/randd/USER/cjj/celedev/vdj_bulk/20230704plot/cell_mouse_tcr/diversity_read_scatter.png\", scale=4)\n",
    "#fig.show()"
   ]
  },
  {
   "cell_type": "code",
   "execution_count": 219,
   "id": "sudden-colleague",
   "metadata": {},
   "outputs": [],
   "source": [
    "fig = px.scatter(\n",
    "    df, # scatter绘制散点图\n",
    "    x='UMI_Counts',    #  x轴\n",
    "    y='Clonotype_Diversity',  # y轴\n",
    "    color = 'Clonotype_Diversity',\n",
    "    labels = calc_corr(df[\"UMI_Counts\"], df[\"Clonotype_Diversity\"]),\n",
    "    width=1680, height=1024\n",
    ")\n",
    "fig.update_traces(marker_size=10)\n",
    "fig.update_layout(title={\"text\":f'Mus-spleenT Diversity (Correlation={calc_corr(df[\"UMI_Counts\"], df[\"Clonotype_Diversity\"])})',\n",
    "                         'y':0.98, 'x':0.5, 'xanchor': 'center', 'yanchor': 'top'},\n",
    "                  xaxis_title = \"UMI_Counts\", yaxis_title = \"Clonotype_Diversity\", font=dict(size=18,color=\"Black\"))\n",
    "\n",
    "fig.write_image(f\"/SGRNJ06/randd/USER/cjj/celedev/vdj_bulk/20230704plot/cell_mouse_tcr/diversity_umi_scatter.png\", scale=4)\n",
    "#fig.show()"
   ]
  },
  {
   "cell_type": "code",
   "execution_count": null,
   "id": "sought-harvey",
   "metadata": {},
   "outputs": [],
   "source": []
  },
  {
   "cell_type": "code",
   "execution_count": 220,
   "id": "dependent-universe",
   "metadata": {},
   "outputs": [],
   "source": [
    "fig = px.box(df, y=\"Clonotype_Diversity\", color=\"Sample\")\n",
    "fig.update_layout(title={\"text\":f'Mus-spleenT',\n",
    "                         'y':0.98, 'x':0.45, 'xanchor': 'center', 'yanchor': 'top'},\n",
    "                          yaxis_title = \"Clonotype_Diversity\", font=dict(size=18,color=\"Black\"))\n",
    "fig.write_image(f\"/SGRNJ06/randd/USER/cjj/celedev/vdj_bulk/20230704plot/cell_mouse_tcr/Diversity_boxplot.png\", scale=4, width=1680, height=1024)\n",
    "#fig.show()"
   ]
  },
  {
   "cell_type": "code",
   "execution_count": null,
   "id": "subtle-final",
   "metadata": {},
   "outputs": [],
   "source": []
  },
  {
   "cell_type": "code",
   "execution_count": null,
   "id": "secondary-lambda",
   "metadata": {},
   "outputs": [],
   "source": []
  },
  {
   "cell_type": "code",
   "execution_count": null,
   "id": "technological-vietnamese",
   "metadata": {},
   "outputs": [],
   "source": [
    "# 投入量测试 rna mouse-TCR"
   ]
  },
  {
   "cell_type": "code",
   "execution_count": 201,
   "id": "thermal-mistake",
   "metadata": {},
   "outputs": [],
   "source": [
    "# mouse_tcr\n",
    "df = pd.read_csv(\"/SGRNJ06/randd/USER/cjj/celedev/vdj_bulk/20230704plot/cell_mouse_tcr_rna/mouse_tcr_rna.csv\")\n",
    "df = df.dropna(axis=0)"
   ]
  },
  {
   "cell_type": "code",
   "execution_count": 203,
   "id": "welcome-speed",
   "metadata": {},
   "outputs": [
    {
     "name": "stderr",
     "output_type": "stream",
     "text": [
      "/SGRNJ/Public/Software/conda_env/chenjunjie/lib/python3.7/site-packages/ipykernel_launcher.py:4: FutureWarning:\n",
      "\n",
      "The default value of regex will change from True to False in a future version. In addition, single character regular expressions will*not* be treated as literal strings when regex=True.\n",
      "\n",
      "/SGRNJ/Public/Software/conda_env/chenjunjie/lib/python3.7/site-packages/ipykernel_launcher.py:5: FutureWarning:\n",
      "\n",
      "The default value of regex will change from True to False in a future version. In addition, single character regular expressions will*not* be treated as literal strings when regex=True.\n",
      "\n",
      "/SGRNJ/Public/Software/conda_env/chenjunjie/lib/python3.7/site-packages/ipykernel_launcher.py:6: FutureWarning:\n",
      "\n",
      "The default value of regex will change from True to False in a future version. In addition, single character regular expressions will*not* be treated as literal strings when regex=True.\n",
      "\n"
     ]
    }
   ],
   "source": [
    "df[\"Raw_Reads\"] = df[\"Raw_Reads\"].str.replace(',','').astype(int)\n",
    "df[\"UMI_Counts\"] = df[\"UMI_Counts\"].str.replace(',','').astype(int)\n",
    "df[\"Clonotype_Diversity\"] = df[\"Clonotype_Diversity\"].str.replace(',','').astype(float)\n",
    "df[\"UMIs_Mapped_Confidently_To_VJ_Gene\"] = df[\"UMIs_Mapped_Confidently_To_VJ_Gene\"].apply(lambda x: x.split('(')[-1]).str.replace(')','').str.replace(\"%\",'').astype(float)\n",
    "df[\"UMIs_Mapped_To_TRA\"] = df[\"UMIs_Mapped_To_TRA\"].apply(lambda x: x.split('(')[-1]).str.replace(')','').str.replace(\"%\",'').astype(float)\n",
    "df[\"UMIs_Mapped_To_TRB\"] = df[\"UMIs_Mapped_To_TRB\"].apply(lambda x: x.split('(')[-1]).str.replace(')','').str.replace(\"%\",'').astype(float)\n",
    "df[\"species\"] = \"Mouse_TCR\"\n",
    "df[\"index\"] = df.index"
   ]
  },
  {
   "cell_type": "code",
   "execution_count": 213,
   "id": "leading-bishop",
   "metadata": {},
   "outputs": [],
   "source": [
    "fig = px.scatter(\n",
    "    df, # scatter绘制散点图\n",
    "    x='Raw_Reads',    #  x轴\n",
    "    y='UMI_Counts',  # y轴\n",
    "    color = 'UMI_Counts',\n",
    "    labels = calc_corr(df[\"Raw_Reads\"], df[\"UMI_Counts\"]),\n",
    "    width=1680, height=1024\n",
    ")\n",
    "fig.update_traces(marker_size=10)\n",
    "fig.update_layout(title={\"text\":f'Mus-RNA (Correlation={calc_corr(df[\"Raw_Reads\"], df[\"UMI_Counts\"])})',\n",
    "                         'y':0.98, 'x':0.5, 'xanchor': 'center', 'yanchor': 'top'},\n",
    "                  xaxis_title = \"Raw_Reads\", yaxis_title = \"UMI_Counts\", font=dict(size=18,color=\"Black\"))\n",
    "\n",
    "fig.write_image(f\"/SGRNJ06/randd/USER/cjj/celedev/vdj_bulk/20230704plot/cell_mouse_tcr_rna/scatter.png\", scale=4)\n",
    "#fig.show()"
   ]
  },
  {
   "cell_type": "code",
   "execution_count": 212,
   "id": "focused-gardening",
   "metadata": {},
   "outputs": [],
   "source": [
    "fig = go.Figure()\n",
    "fig.add_trace(go.Box(y=list(df.UMIs_Mapped_To_TRA),name=\"UMIs_Mapped_To_TRA\"))\n",
    "fig.add_trace(go.Box(y=list(df.UMIs_Mapped_To_TRB),name=\"UMIs_Mapped_To_TRB\"))\n",
    "fig.add_trace(go.Box(y=list(df.UMIs_Mapped_Confidently_To_VJ_Gene),name=\"UMIs_Mapped_Confidently_To_VJ_Gene\"))\n",
    "fig.update_layout(title={\"text\":f'Mus-RNA',\n",
    "                         'y':0.98, 'x':0.40, 'xanchor': 'center', 'yanchor': 'top'},\n",
    "                          yaxis_title = \"Mapping Percent(%)\", font=dict(size=18,color=\"Black\"))\n",
    "\n",
    "fig.write_image(f\"/SGRNJ06/randd/USER/cjj/celedev/vdj_bulk/20230704plot/cell_mouse_tcr_rna/boxplot.png\", scale=4, width=1680, height=1024)\n",
    "#fig.show()"
   ]
  },
  {
   "cell_type": "code",
   "execution_count": 211,
   "id": "metric-style",
   "metadata": {},
   "outputs": [],
   "source": [
    "fig = px.scatter(\n",
    "    df, # scatter绘制散点图\n",
    "    x='Raw_Reads',    #  x轴\n",
    "    y='Clonotype_Diversity',  # y轴\n",
    "    color = 'Clonotype_Diversity',\n",
    "    labels = calc_corr(df[\"Raw_Reads\"], df[\"Clonotype_Diversity\"]),\n",
    "    width=1680, height=1024\n",
    ")\n",
    "fig.update_traces(marker_size=10)\n",
    "fig.update_layout(title={\"text\":f'Mus-RNA Diversity (Correlation={calc_corr(df[\"Raw_Reads\"], df[\"Clonotype_Diversity\"])})',\n",
    "                         'y':0.98, 'x':0.5, 'xanchor': 'center', 'yanchor': 'top'},\n",
    "                  xaxis_title = \"Raw_Reads\", yaxis_title = \"Clonotype_Diversity\", font=dict(size=18,color=\"Black\"))\n",
    "\n",
    "fig.write_image(f\"/SGRNJ06/randd/USER/cjj/celedev/vdj_bulk/20230704plot/cell_mouse_tcr_rna/diversity_read_scatter.png\", scale=4)\n",
    "#fig.show()"
   ]
  },
  {
   "cell_type": "code",
   "execution_count": 210,
   "id": "sixth-renaissance",
   "metadata": {},
   "outputs": [],
   "source": [
    "fig = px.scatter(\n",
    "    df, # scatter绘制散点图\n",
    "    x='UMI_Counts',    #  x轴\n",
    "    y='Clonotype_Diversity',  # y轴\n",
    "    color = 'Clonotype_Diversity',\n",
    "    labels = calc_corr(df[\"UMI_Counts\"], df[\"Clonotype_Diversity\"]),\n",
    "    width=1680, height=1024\n",
    ")\n",
    "fig.update_traces(marker_size=10)\n",
    "fig.update_layout(title={\"text\":f'Mus-RNA Diversity (Correlation={calc_corr(df[\"UMI_Counts\"], df[\"Clonotype_Diversity\"])})',\n",
    "                         'y':0.98, 'x':0.5, 'xanchor': 'center', 'yanchor': 'top'},\n",
    "                  xaxis_title = \"UMI_Counts\", yaxis_title = \"Clonotype_Diversity\", font=dict(size=18,color=\"Black\"))\n",
    "\n",
    "fig.write_image(f\"/SGRNJ06/randd/USER/cjj/celedev/vdj_bulk/20230704plot/cell_mouse_tcr_rna/diversity_umi_scatter.png\", scale=4)\n",
    "#fig.show()"
   ]
  },
  {
   "cell_type": "code",
   "execution_count": 209,
   "id": "challenging-experiment",
   "metadata": {},
   "outputs": [],
   "source": [
    "fig = px.box(df, y=\"Clonotype_Diversity\", color=\"Sample\")\n",
    "fig.update_layout(title={\"text\":f'Mus-RNA',\n",
    "                         'y':0.98, 'x':0.45, 'xanchor': 'center', 'yanchor': 'top'},\n",
    "                          yaxis_title = \"Clonotype_Diversity\", font=dict(size=18,color=\"Black\"))\n",
    "fig.write_image(f\"/SGRNJ06/randd/USER/cjj/celedev/vdj_bulk/20230704plot/cell_mouse_tcr_rna/Diversity_boxplot.png\", scale=4, width=1680, height=1024)\n",
    "#fig.show()"
   ]
  },
  {
   "cell_type": "code",
   "execution_count": null,
   "id": "military-governor",
   "metadata": {},
   "outputs": [],
   "source": []
  },
  {
   "cell_type": "code",
   "execution_count": null,
   "id": "returning-maximum",
   "metadata": {},
   "outputs": [],
   "source": []
  },
  {
   "cell_type": "code",
   "execution_count": null,
   "id": "arbitrary-easter",
   "metadata": {},
   "outputs": [],
   "source": []
  },
  {
   "cell_type": "code",
   "execution_count": null,
   "id": "prospective-hospital",
   "metadata": {},
   "outputs": [],
   "source": []
  }
 ],
 "metadata": {
  "kernelspec": {
   "display_name": "trust4_1.7",
   "language": "python",
   "name": "trust4_1.7"
  },
  "language_info": {
   "codemirror_mode": {
    "name": "ipython",
    "version": 3
   },
   "file_extension": ".py",
   "mimetype": "text/x-python",
   "name": "python",
   "nbconvert_exporter": "python",
   "pygments_lexer": "ipython3",
   "version": "3.7.10"
  }
 },
 "nbformat": 4,
 "nbformat_minor": 5
}
